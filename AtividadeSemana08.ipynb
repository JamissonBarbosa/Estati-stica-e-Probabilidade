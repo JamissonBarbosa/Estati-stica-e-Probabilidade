{
  "nbformat": 4,
  "nbformat_minor": 0,
  "metadata": {
    "colab": {
      "name": "AtividadeSemana07.ipynb",
      "provenance": [],
      "collapsed_sections": []
    },
    "kernelspec": {
      "name": "python3",
      "display_name": "Python 3"
    }
  },
  "cells": [
    {
      "cell_type": "markdown",
      "metadata": {
        "id": "yfs2143a4kRk"
      },
      "source": [
        "**Registro Clínicos de insuficiência cardiáca**\n",
        "\n",
        "\n",
        "\n",
        "*  data set contém um conjunto de dados de 100 pacientes, afim de prever o cancer de prostata\n",
        "\n",
        "\n",
        "link dataset: https://www.kaggle.com/sajidsaifi/prostate-cancer\n",
        "\n",
        "\n",
        "\n"
      ]
    },
    {
      "cell_type": "markdown",
      "metadata": {
        "id": "dUZyhIKRXA-u"
      },
      "source": [
        "importndo algumas das principais biblioteca como pandas e matplot"
      ]
    },
    {
      "cell_type": "code",
      "metadata": {
        "id": "xVd9wos5PsDx"
      },
      "source": [
        "import pandas as pd\n",
        "import matplotlib.pyplot as plt\n",
        "import numpy as np\n",
        "from scipy.stats import  norm\n",
        "import seaborn as sns\n",
        "from scipy.stats import kstest"
      ],
      "execution_count": 1,
      "outputs": []
    },
    {
      "cell_type": "markdown",
      "metadata": {
        "id": "IVw-rx7GXHmG"
      },
      "source": [
        "Atribuir a uma variável o dataset escolhido"
      ]
    },
    {
      "cell_type": "code",
      "metadata": {
        "id": "TU0PB_mhXMbu"
      },
      "source": [
        "df = pd.read_csv('/content/drive/My Drive/Prostate_Cancer.csv')"
      ],
      "execution_count": 4,
      "outputs": []
    },
    {
      "cell_type": "markdown",
      "metadata": {
        "id": "eeOwXVwQXRJO"
      },
      "source": [
        "Com o método head() é possível ver as promeiras linha dos dataframe, por padrão ele exibe as primeiras 5 linhas"
      ]
    },
    {
      "cell_type": "code",
      "metadata": {
        "id": "PuNWaeaVXSju",
        "colab": {
          "base_uri": "https://localhost:8080/",
          "height": 224
        },
        "outputId": "3f71234e-afd1-4aba-d87b-8eea35b2d0eb"
      },
      "source": [
        "df.head()"
      ],
      "execution_count": 5,
      "outputs": [
        {
          "output_type": "execute_result",
          "data": {
            "text/html": [
              "<div>\n",
              "<style scoped>\n",
              "    .dataframe tbody tr th:only-of-type {\n",
              "        vertical-align: middle;\n",
              "    }\n",
              "\n",
              "    .dataframe tbody tr th {\n",
              "        vertical-align: top;\n",
              "    }\n",
              "\n",
              "    .dataframe thead th {\n",
              "        text-align: right;\n",
              "    }\n",
              "</style>\n",
              "<table border=\"1\" class=\"dataframe\">\n",
              "  <thead>\n",
              "    <tr style=\"text-align: right;\">\n",
              "      <th></th>\n",
              "      <th>id</th>\n",
              "      <th>diagnosis_result</th>\n",
              "      <th>radius</th>\n",
              "      <th>texture</th>\n",
              "      <th>perimeter</th>\n",
              "      <th>area</th>\n",
              "      <th>smoothness</th>\n",
              "      <th>compactness</th>\n",
              "      <th>symmetry</th>\n",
              "      <th>fractal_dimension</th>\n",
              "    </tr>\n",
              "  </thead>\n",
              "  <tbody>\n",
              "    <tr>\n",
              "      <th>0</th>\n",
              "      <td>1</td>\n",
              "      <td>M</td>\n",
              "      <td>23</td>\n",
              "      <td>12</td>\n",
              "      <td>151</td>\n",
              "      <td>954</td>\n",
              "      <td>0.143</td>\n",
              "      <td>0.278</td>\n",
              "      <td>0.242</td>\n",
              "      <td>0.079</td>\n",
              "    </tr>\n",
              "    <tr>\n",
              "      <th>1</th>\n",
              "      <td>2</td>\n",
              "      <td>B</td>\n",
              "      <td>9</td>\n",
              "      <td>13</td>\n",
              "      <td>133</td>\n",
              "      <td>1326</td>\n",
              "      <td>0.143</td>\n",
              "      <td>0.079</td>\n",
              "      <td>0.181</td>\n",
              "      <td>0.057</td>\n",
              "    </tr>\n",
              "    <tr>\n",
              "      <th>2</th>\n",
              "      <td>3</td>\n",
              "      <td>M</td>\n",
              "      <td>21</td>\n",
              "      <td>27</td>\n",
              "      <td>130</td>\n",
              "      <td>1203</td>\n",
              "      <td>0.125</td>\n",
              "      <td>0.160</td>\n",
              "      <td>0.207</td>\n",
              "      <td>0.060</td>\n",
              "    </tr>\n",
              "    <tr>\n",
              "      <th>3</th>\n",
              "      <td>4</td>\n",
              "      <td>M</td>\n",
              "      <td>14</td>\n",
              "      <td>16</td>\n",
              "      <td>78</td>\n",
              "      <td>386</td>\n",
              "      <td>0.070</td>\n",
              "      <td>0.284</td>\n",
              "      <td>0.260</td>\n",
              "      <td>0.097</td>\n",
              "    </tr>\n",
              "    <tr>\n",
              "      <th>4</th>\n",
              "      <td>5</td>\n",
              "      <td>M</td>\n",
              "      <td>9</td>\n",
              "      <td>19</td>\n",
              "      <td>135</td>\n",
              "      <td>1297</td>\n",
              "      <td>0.141</td>\n",
              "      <td>0.133</td>\n",
              "      <td>0.181</td>\n",
              "      <td>0.059</td>\n",
              "    </tr>\n",
              "  </tbody>\n",
              "</table>\n",
              "</div>"
            ],
            "text/plain": [
              "   id diagnosis_result  radius  ...  compactness  symmetry  fractal_dimension\n",
              "0   1                M      23  ...        0.278     0.242              0.079\n",
              "1   2                B       9  ...        0.079     0.181              0.057\n",
              "2   3                M      21  ...        0.160     0.207              0.060\n",
              "3   4                M      14  ...        0.284     0.260              0.097\n",
              "4   5                M       9  ...        0.133     0.181              0.059\n",
              "\n",
              "[5 rows x 10 columns]"
            ]
          },
          "metadata": {
            "tags": []
          },
          "execution_count": 5
        }
      ]
    },
    {
      "cell_type": "markdown",
      "metadata": {
        "id": "AAp3a3KmXasO"
      },
      "source": [
        "Podemos usar o describe() e info() para retornar um resumo estatístico das variáveis númericas e obter um resumo de valores não-nulos encontrados respectivamente."
      ]
    },
    {
      "cell_type": "code",
      "metadata": {
        "id": "Ge_GWMZeXbzd",
        "colab": {
          "base_uri": "https://localhost:8080/"
        },
        "outputId": "0cdc937c-0f01-4c82-d7aa-dc6f80b21ce1"
      },
      "source": [
        "df.describe()\n",
        "df.info()"
      ],
      "execution_count": 6,
      "outputs": [
        {
          "output_type": "stream",
          "text": [
            "<class 'pandas.core.frame.DataFrame'>\n",
            "RangeIndex: 100 entries, 0 to 99\n",
            "Data columns (total 10 columns):\n",
            " #   Column             Non-Null Count  Dtype  \n",
            "---  ------             --------------  -----  \n",
            " 0   id                 100 non-null    int64  \n",
            " 1   diagnosis_result   100 non-null    object \n",
            " 2   radius             100 non-null    int64  \n",
            " 3   texture            100 non-null    int64  \n",
            " 4   perimeter          100 non-null    int64  \n",
            " 5   area               100 non-null    int64  \n",
            " 6   smoothness         100 non-null    float64\n",
            " 7   compactness        100 non-null    float64\n",
            " 8   symmetry           100 non-null    float64\n",
            " 9   fractal_dimension  100 non-null    float64\n",
            "dtypes: float64(4), int64(5), object(1)\n",
            "memory usage: 7.9+ KB\n"
          ],
          "name": "stdout"
        }
      ]
    },
    {
      "cell_type": "markdown",
      "metadata": {
        "id": "s9avYSQ6FN2B"
      },
      "source": [
        "#Testes Não Paramétricos\n",
        "\n",
        "##Teste de Kolmogorov-Smirnov"
      ]
    },
    {
      "cell_type": "code",
      "metadata": {
        "id": "_1V5Q906EL1d"
      },
      "source": [
        "#definindo amostra\n",
        "amostra = df.texture"
      ],
      "execution_count": 15,
      "outputs": []
    },
    {
      "cell_type": "code",
      "metadata": {
        "colab": {
          "base_uri": "https://localhost:8080/",
          "height": 265
        },
        "id": "UzCkT6f_CgEt",
        "outputId": "e226fd65-9c19-4576-e1cc-2fc0902e77d5"
      },
      "source": [
        "plt.plot(amostra)\n",
        "plt.show()"
      ],
      "execution_count": 16,
      "outputs": [
        {
          "output_type": "display_data",
          "data": {
            "image/png": "[encoded data removed]",
            "text/plain": [
              "<Figure size 432x288 with 1 Axes>"
            ]
          },
          "metadata": {
            "tags": [],
            "needs_background": "light"
          }
        }
      ]
    },
    {
      "cell_type": "code",
      "metadata": {
        "colab": {
          "base_uri": "https://localhost:8080/",
          "height": 349
        },
        "id": "YNK-yXLTE6iO",
        "outputId": "8499c9d1-d96c-4343-bdfb-c0c6221bd293"
      },
      "source": [
        "# distribuição de probabilidade comparando a textura media para as duas classes\n",
        "sns.distplot(amostra, hist=False, rug=False,label='amostra')\n",
        "plt.xlabel('Valores')\n",
        "plt.ylabel('Probabilidades')\n",
        "plt.title('Distribuição dos dados')\n",
        "plt.legend()\n",
        "plt.show()"
      ],
      "execution_count": 17,
      "outputs": [
        {
          "output_type": "stream",
          "text": [
            "/usr/local/lib/python3.6/dist-packages/seaborn/distributions.py:2551: FutureWarning: `distplot` is a deprecated function and will be removed in a future version. Please adapt your code to use either `displot` (a figure-level function with similar flexibility) or `kdeplot` (an axes-level function for kernel density plots).\n",
            "  warnings.warn(msg, FutureWarning)\n"
          ],
          "name": "stderr"
        },
        {
          "output_type": "display_data",
          "data": {
            "image/png": "[encoded data removed]",
            "text/plain": [
              "<Figure size 432x288 with 1 Axes>"
            ]
          },
          "metadata": {
            "tags": [],
            "needs_background": "light"
          }
        }
      ]
    },
    {
      "cell_type": "markdown",
      "metadata": {
        "id": "LNIIN8DCFb6R"
      },
      "source": [
        "##P-value\n",
        "\n",
        "* chamado de nível descritivo ou probabilidade de significância\n",
        "* representa o menor nível de significância com que se rejeita a hipótese nula"
      ]
    },
    {
      "cell_type": "code",
      "metadata": {
        "colab": {
          "base_uri": "https://localhost:8080/"
        },
        "id": "w0ywPqyvFqnX",
        "outputId": "7ca55a9b-b68d-474a-e49e-895f1281d9f3"
      },
      "source": [
        "s,p = kstest(amostra,'norm')\n",
        "s,p"
      ],
      "execution_count": 18,
      "outputs": [
        {
          "output_type": "execute_result",
          "data": {
            "text/plain": [
              "(1.0, 0.0)"
            ]
          },
          "metadata": {
            "tags": []
          },
          "execution_count": 18
        }
      ]
    },
    {
      "cell_type": "code",
      "metadata": {
        "colab": {
          "base_uri": "https://localhost:8080/"
        },
        "id": "dFYC_N6XF2qW",
        "outputId": "d1003327-7da7-4211-a092-6272f528dd4f"
      },
      "source": [
        "if p<0.05:\n",
        "  print('Rejeita H0')\n",
        "else:\n",
        "  print('Falha em Rejeitar H0')"
      ],
      "execution_count": 19,
      "outputs": [
        {
          "output_type": "stream",
          "text": [
            "Rejeita H0\n"
          ],
          "name": "stdout"
        }
      ]
    },
    {
      "cell_type": "markdown",
      "metadata": {
        "id": "LdPxwH71Gn0N"
      },
      "source": [
        "#Teste de Wilcoxon para Amostras Independentes\n",
        "\n",
        "* O Wilcoxon rank-sum test testa a hipótese que duas amostras independentes advém da mesma distriuição\n",
        "* A hipótese alternativa do teste é que o s valores das amostras advém de distribuições diferentes"
      ]
    },
    {
      "cell_type": "code",
      "metadata": {
        "id": "4UEnFdFhF4iW"
      },
      "source": [
        "from scipy.stats import ranksums"
      ],
      "execution_count": 20,
      "outputs": []
    },
    {
      "cell_type": "code",
      "metadata": {
        "id": "_KyJxAx0HDLg"
      },
      "source": [
        "amostra1 = df.texture\n",
        "amostra2 = df.radius"
      ],
      "execution_count": 21,
      "outputs": []
    },
    {
      "cell_type": "code",
      "metadata": {
        "colab": {
          "base_uri": "https://localhost:8080/",
          "height": 383
        },
        "id": "tC5Hr3CeHLwx",
        "outputId": "d1acfc54-d2d6-4840-e7be-8c204d6e9fdf"
      },
      "source": [
        "# distribuição de probabilidade comparando a textura media para as duas classes\n",
        "sns.distplot(amostra1, hist=False, rug=False,label='amostra1')\n",
        "sns.distplot(amostra2, hist=False, rug=False,label='amostra2')\n",
        "plt.xlabel('Valores')\n",
        "plt.ylabel('Probabilidades')\n",
        "plt.title('Distribuição dos dados')\n",
        "plt.legend()\n",
        "plt.show()"
      ],
      "execution_count": 22,
      "outputs": [
        {
          "output_type": "stream",
          "text": [
            "/usr/local/lib/python3.6/dist-packages/seaborn/distributions.py:2551: FutureWarning: `distplot` is a deprecated function and will be removed in a future version. Please adapt your code to use either `displot` (a figure-level function with similar flexibility) or `kdeplot` (an axes-level function for kernel density plots).\n",
            "  warnings.warn(msg, FutureWarning)\n",
            "/usr/local/lib/python3.6/dist-packages/seaborn/distributions.py:2551: FutureWarning: `distplot` is a deprecated function and will be removed in a future version. Please adapt your code to use either `displot` (a figure-level function with similar flexibility) or `kdeplot` (an axes-level function for kernel density plots).\n",
            "  warnings.warn(msg, FutureWarning)\n"
          ],
          "name": "stderr"
        },
        {
          "output_type": "display_data",
          "data": {
            "image/png": "[encoded data removed]",
            "text/plain": [
              "<Figure size 432x288 with 1 Axes>"
            ]
          },
          "metadata": {
            "tags": [],
            "needs_background": "light"
          }
        }
      ]
    },
    {
      "cell_type": "code",
      "metadata": {
        "colab": {
          "base_uri": "https://localhost:8080/"
        },
        "id": "RJJuc0MfHUfR",
        "outputId": "db12738e-9410-4c83-b844-9e438367a23c"
      },
      "source": [
        "s,p = ranksums(amostra1,amostra2)\n",
        "s,p"
      ],
      "execution_count": 24,
      "outputs": [
        {
          "output_type": "execute_result",
          "data": {
            "text/plain": [
              "(1.7409145820773495, 0.08169855226894107)"
            ]
          },
          "metadata": {
            "tags": []
          },
          "execution_count": 24
        }
      ]
    },
    {
      "cell_type": "code",
      "metadata": {
        "colab": {
          "base_uri": "https://localhost:8080/"
        },
        "id": "y9QB46DWHY45",
        "outputId": "057e0fa2-ff1b-464e-984b-6faee49c971a"
      },
      "source": [
        "if p<0.05:\n",
        "  print('Rejeita H0')\n",
        "else:\n",
        "  print('Falha em Rejeitar H0')"
      ],
      "execution_count": 25,
      "outputs": [
        {
          "output_type": "stream",
          "text": [
            "Falha em Rejeitar H0\n"
          ],
          "name": "stdout"
        }
      ]
    },
    {
      "cell_type": "code",
      "metadata": {
        "id": "_DI4eEf_HbLB"
      },
      "source": [
        "amostra3 = df.perimeter\n",
        "amostra4 = df.area"
      ],
      "execution_count": 26,
      "outputs": []
    },
    {
      "cell_type": "code",
      "metadata": {
        "colab": {
          "base_uri": "https://localhost:8080/",
          "height": 383
        },
        "id": "aQo7g-2yHeXK",
        "outputId": "e4daf0ed-06c0-4b33-e768-157c64545529"
      },
      "source": [
        "# distribuição de probabilidade comparando a textura media para as duas classes\n",
        "sns.distplot(amostra3, hist=False, rug=False,label='amostra3')\n",
        "sns.distplot(amostra4, hist=False, rug=False,label='amostra4')\n",
        "plt.xlabel('Valores')\n",
        "plt.ylabel('Probabilidades')\n",
        "plt.title('Distribuição dos dados')\n",
        "plt.legend()\n",
        "plt.show()"
      ],
      "execution_count": 28,
      "outputs": [
        {
          "output_type": "stream",
          "text": [
            "/usr/local/lib/python3.6/dist-packages/seaborn/distributions.py:2551: FutureWarning: `distplot` is a deprecated function and will be removed in a future version. Please adapt your code to use either `displot` (a figure-level function with similar flexibility) or `kdeplot` (an axes-level function for kernel density plots).\n",
            "  warnings.warn(msg, FutureWarning)\n",
            "/usr/local/lib/python3.6/dist-packages/seaborn/distributions.py:2551: FutureWarning: `distplot` is a deprecated function and will be removed in a future version. Please adapt your code to use either `displot` (a figure-level function with similar flexibility) or `kdeplot` (an axes-level function for kernel density plots).\n",
            "  warnings.warn(msg, FutureWarning)\n"
          ],
          "name": "stderr"
        },
        {
          "output_type": "display_data",
          "data": {
            "image/png": "[encoded data removed]",
            "text/plain": [
              "<Figure size 432x288 with 1 Axes>"
            ]
          },
          "metadata": {
            "tags": [],
            "needs_background": "light"
          }
        }
      ]
    },
    {
      "cell_type": "code",
      "metadata": {
        "colab": {
          "base_uri": "https://localhost:8080/"
        },
        "id": "J76pSraGH0yV",
        "outputId": "a4f97daa-2d7e-4f71-99e5-157b1a7d3b11"
      },
      "source": [
        "s,p = ranksums(amostra3,amostra4)\n",
        "s,p"
      ],
      "execution_count": 29,
      "outputs": [
        {
          "output_type": "execute_result",
          "data": {
            "text/plain": [
              "(-12.216944435630522, 2.5239394239903128e-34)"
            ]
          },
          "metadata": {
            "tags": []
          },
          "execution_count": 29
        }
      ]
    },
    {
      "cell_type": "code",
      "metadata": {
        "colab": {
          "base_uri": "https://localhost:8080/"
        },
        "id": "K_RKWmU-H4Oz",
        "outputId": "b18c0985-3bd9-4660-eddd-f1ff96fe69c7"
      },
      "source": [
        "if p<0.05:\n",
        "  print('Rejeita H0')\n",
        "else:\n",
        "  print('Falha em Rejeitar H0')"
      ],
      "execution_count": 30,
      "outputs": [
        {
          "output_type": "stream",
          "text": [
            "Rejeita H0\n"
          ],
          "name": "stdout"
        }
      ]
    },
    {
      "cell_type": "markdown",
      "metadata": {
        "id": "bnfIvPiVH7CO"
      },
      "source": [
        "##Teste de Wilcoxon para Amostras Dependentes\n",
        "\n",
        "* O Wilcoxon signed-rank teste testa a hipótese que duas amostras dependentes advém da mesma distribuição\n",
        "* A hipótese alternativa do teste é que os valores das amostras advém de distribuições diferentes"
      ]
    },
    {
      "cell_type": "code",
      "metadata": {
        "id": "wlgH63SgIHQ0"
      },
      "source": [
        "from scipy.stats import wilcoxon"
      ],
      "execution_count": 31,
      "outputs": []
    },
    {
      "cell_type": "code",
      "metadata": {
        "id": "fuNHh2V0IPCk"
      },
      "source": [
        "amostra5 = df.compactness\n",
        "amostra6 = df.symmetry"
      ],
      "execution_count": 32,
      "outputs": []
    },
    {
      "cell_type": "code",
      "metadata": {
        "colab": {
          "base_uri": "https://localhost:8080/",
          "height": 383
        },
        "id": "PNqZhf5EIXC-",
        "outputId": "ec2aadd6-0e05-4345-b6bb-6914c40702d9"
      },
      "source": [
        "# distribuição de probabilidade comparando a textura media para as duas classes\n",
        "sns.distplot(amostra5, hist=False, rug=False,label='amostra5')\n",
        "sns.distplot(amostra6, hist=False, rug=False,label='amostra6')\n",
        "plt.xlabel('Valores')\n",
        "plt.ylabel('Probabilidades')\n",
        "plt.title('Distribuição dos dados')\n",
        "plt.legend()\n",
        "plt.show()"
      ],
      "execution_count": 33,
      "outputs": [
        {
          "output_type": "stream",
          "text": [
            "/usr/local/lib/python3.6/dist-packages/seaborn/distributions.py:2551: FutureWarning: `distplot` is a deprecated function and will be removed in a future version. Please adapt your code to use either `displot` (a figure-level function with similar flexibility) or `kdeplot` (an axes-level function for kernel density plots).\n",
            "  warnings.warn(msg, FutureWarning)\n",
            "/usr/local/lib/python3.6/dist-packages/seaborn/distributions.py:2551: FutureWarning: `distplot` is a deprecated function and will be removed in a future version. Please adapt your code to use either `displot` (a figure-level function with similar flexibility) or `kdeplot` (an axes-level function for kernel density plots).\n",
            "  warnings.warn(msg, FutureWarning)\n"
          ],
          "name": "stderr"
        },
        {
          "output_type": "display_data",
          "data": {
            "image/png": "[encoded data removed]",
            "text/plain": [
              "<Figure size 432x288 with 1 Axes>"
            ]
          },
          "metadata": {
            "tags": [],
            "needs_background": "light"
          }
        }
      ]
    },
    {
      "cell_type": "code",
      "metadata": {
        "colab": {
          "base_uri": "https://localhost:8080/"
        },
        "id": "2_mvcweCIcTV",
        "outputId": "4fb0ebc1-6cb0-4946-e3e7-28869f708350"
      },
      "source": [
        "s,p = wilcoxon(amostra5,amostra6)\n",
        "s,p"
      ],
      "execution_count": 34,
      "outputs": [
        {
          "output_type": "execute_result",
          "data": {
            "text/plain": [
              "(151.0, 4.998030370228504e-16)"
            ]
          },
          "metadata": {
            "tags": []
          },
          "execution_count": 34
        }
      ]
    },
    {
      "cell_type": "code",
      "metadata": {
        "colab": {
          "base_uri": "https://localhost:8080/"
        },
        "id": "lhHjNaYCIhh2",
        "outputId": "78f1d580-8e4a-43a3-d002-abcd1a927daf"
      },
      "source": [
        "if p<0.05:\n",
        "  print('Rejeita H0')\n",
        "else:\n",
        "  print('Falha em Rejeitar H0')"
      ],
      "execution_count": 35,
      "outputs": [
        {
          "output_type": "stream",
          "text": [
            "Rejeita H0\n"
          ],
          "name": "stdout"
        }
      ]
    },
    {
      "cell_type": "markdown",
      "metadata": {
        "id": "B2oreSZkKCwk"
      },
      "source": [
        "##Teste de Friedman\n",
        "\n",
        "* Em alguns casos precisamos de um teste não-paramétrico para comparar mais de duas amostras\n",
        "* O teste de Friedman permite fazer esse tipo de comparação\n",
        "* A hipótese nula é que todas as amostras têm a mesma distribuição\n",
        "* A hipótese alternativa é que pelo menos uma das amostras não segue a mesma distribuição das demais"
      ]
    },
    {
      "cell_type": "code",
      "metadata": {
        "id": "Xz_ReGduKO1i"
      },
      "source": [
        "from scipy.stats import friedmanchisquare"
      ],
      "execution_count": 36,
      "outputs": []
    },
    {
      "cell_type": "code",
      "metadata": {
        "id": "NJKEXHBxKRD6"
      },
      "source": [
        "amostra9 = df.smoothness\n",
        "amostra10 = df.compactness\n",
        "amostra11 = df.symmetry"
      ],
      "execution_count": 38,
      "outputs": []
    },
    {
      "cell_type": "code",
      "metadata": {
        "colab": {
          "base_uri": "https://localhost:8080/",
          "height": 417
        },
        "id": "7z3WlVCzKoVb",
        "outputId": "9fdde285-ce63-4e4b-8b8c-1b3a5011f522"
      },
      "source": [
        "# distribuição de probabilidade comparando a textura media para as duas classes\n",
        "sns.distplot(amostra9, hist=False, rug=False,label='amostra9')\n",
        "sns.distplot(amostra10, hist=False, rug=False,label='amostra10')\n",
        "sns.distplot(amostra11, hist=False, rug=False,label='amostra11')\n",
        "plt.xlabel('Valores')\n",
        "plt.ylabel('Probabilidades')\n",
        "plt.title('Distribuição dos dados')\n",
        "plt.legend()\n",
        "plt.show()"
      ],
      "execution_count": 39,
      "outputs": [
        {
          "output_type": "stream",
          "text": [
            "/usr/local/lib/python3.6/dist-packages/seaborn/distributions.py:2551: FutureWarning: `distplot` is a deprecated function and will be removed in a future version. Please adapt your code to use either `displot` (a figure-level function with similar flexibility) or `kdeplot` (an axes-level function for kernel density plots).\n",
            "  warnings.warn(msg, FutureWarning)\n",
            "/usr/local/lib/python3.6/dist-packages/seaborn/distributions.py:2551: FutureWarning: `distplot` is a deprecated function and will be removed in a future version. Please adapt your code to use either `displot` (a figure-level function with similar flexibility) or `kdeplot` (an axes-level function for kernel density plots).\n",
            "  warnings.warn(msg, FutureWarning)\n",
            "/usr/local/lib/python3.6/dist-packages/seaborn/distributions.py:2551: FutureWarning: `distplot` is a deprecated function and will be removed in a future version. Please adapt your code to use either `displot` (a figure-level function with similar flexibility) or `kdeplot` (an axes-level function for kernel density plots).\n",
            "  warnings.warn(msg, FutureWarning)\n"
          ],
          "name": "stderr"
        },
        {
          "output_type": "display_data",
          "data": {
            "image/png": "[encoded data removed]",
            "text/plain": [
              "<Figure size 432x288 with 1 Axes>"
            ]
          },
          "metadata": {
            "tags": [],
            "needs_background": "light"
          }
        }
      ]
    },
    {
      "cell_type": "code",
      "metadata": {
        "colab": {
          "base_uri": "https://localhost:8080/"
        },
        "id": "cF_533T-K54Z",
        "outputId": "e137ae89-4bf2-4495-c086-4a13d335c95b"
      },
      "source": [
        "s,p = friedmanchisquare(amostra9,amostra10,amostra11)\n",
        "s,p"
      ],
      "execution_count": 40,
      "outputs": [
        {
          "output_type": "execute_result",
          "data": {
            "text/plain": [
              "(129.4786967418546, 7.656992831282869e-29)"
            ]
          },
          "metadata": {
            "tags": []
          },
          "execution_count": 40
        }
      ]
    },
    {
      "cell_type": "code",
      "metadata": {
        "colab": {
          "base_uri": "https://localhost:8080/"
        },
        "id": "mVJgHJpSK8LD",
        "outputId": "34db9c49-cf6a-4b58-e6c8-80f853c3ff55"
      },
      "source": [
        "if p<0.05:\n",
        "  print('Rejeita H0')\n",
        "else:\n",
        "  print('Falha em Rejeitar H0')"
      ],
      "execution_count": 41,
      "outputs": [
        {
          "output_type": "stream",
          "text": [
            "Rejeita H0\n"
          ],
          "name": "stdout"
        }
      ]
    },
    {
      "cell_type": "markdown",
      "metadata": {
        "id": "ow8ufkC3LEIw"
      },
      "source": [
        "##Teste de Nemenyi\n",
        "\n",
        "  * comparação entre pares de modo a verificar qual dos pares diferem entre si\n"
      ]
    },
    {
      "cell_type": "code",
      "metadata": {
        "colab": {
          "base_uri": "https://localhost:8080/"
        },
        "id": "rH9Qic6MLPi3",
        "outputId": "96e10870-e774-4157-fcc6-ad33298f81df"
      },
      "source": [
        "! pip install scikit-posthocs"
      ],
      "execution_count": 42,
      "outputs": [
        {
          "output_type": "stream",
          "text": [
            "Collecting scikit-posthocs\n",
            "  Downloading https://files.pythonhosted.org/packages/e8/b3/ab9b240381d6218a3a5e94d11a1552217317d9624988cf279ec527b5f83e/scikit_posthocs-0.6.6-py3-none-any.whl\n",
            "Requirement already satisfied: statsmodels in /usr/local/lib/python3.6/dist-packages (from scikit-posthocs) (0.10.2)\n",
            "Requirement already satisfied: numpy in /usr/local/lib/python3.6/dist-packages (from scikit-posthocs) (1.18.5)\n",
            "Requirement already satisfied: seaborn in /usr/local/lib/python3.6/dist-packages (from scikit-posthocs) (0.11.0)\n",
            "Requirement already satisfied: scipy in /usr/local/lib/python3.6/dist-packages (from scikit-posthocs) (1.4.1)\n",
            "Requirement already satisfied: matplotlib in /usr/local/lib/python3.6/dist-packages (from scikit-posthocs) (3.2.2)\n",
            "Requirement already satisfied: pandas>=0.20.0 in /usr/local/lib/python3.6/dist-packages (from scikit-posthocs) (1.1.4)\n",
            "Requirement already satisfied: patsy>=0.4.0 in /usr/local/lib/python3.6/dist-packages (from statsmodels->scikit-posthocs) (0.5.1)\n",
            "Requirement already satisfied: kiwisolver>=1.0.1 in /usr/local/lib/python3.6/dist-packages (from matplotlib->scikit-posthocs) (1.3.1)\n",
            "Requirement already satisfied: python-dateutil>=2.1 in /usr/local/lib/python3.6/dist-packages (from matplotlib->scikit-posthocs) (2.8.1)\n",
            "Requirement already satisfied: pyparsing!=2.0.4,!=2.1.2,!=2.1.6,>=2.0.1 in /usr/local/lib/python3.6/dist-packages (from matplotlib->scikit-posthocs) (2.4.7)\n",
            "Requirement already satisfied: cycler>=0.10 in /usr/local/lib/python3.6/dist-packages (from matplotlib->scikit-posthocs) (0.10.0)\n",
            "Requirement already satisfied: pytz>=2017.2 in /usr/local/lib/python3.6/dist-packages (from pandas>=0.20.0->scikit-posthocs) (2018.9)\n",
            "Requirement already satisfied: six in /usr/local/lib/python3.6/dist-packages (from patsy>=0.4.0->statsmodels->scikit-posthocs) (1.15.0)\n",
            "Installing collected packages: scikit-posthocs\n",
            "Successfully installed scikit-posthocs-0.6.6\n"
          ],
          "name": "stdout"
        }
      ]
    },
    {
      "cell_type": "code",
      "metadata": {
        "colab": {
          "base_uri": "https://localhost:8080/"
        },
        "id": "RGBPXutSLTJk",
        "outputId": "e7e56e28-908f-4328-f0f2-cd81bc6f8331"
      },
      "source": [
        "from scikit_posthocs import posthoc_nemenyi"
      ],
      "execution_count": 44,
      "outputs": [
        {
          "output_type": "stream",
          "text": [
            "/usr/local/lib/python3.6/dist-packages/statsmodels/tools/_testing.py:19: FutureWarning: pandas.util.testing is deprecated. Use the functions in the public API at pandas.testing instead.\n",
            "  import pandas.util.testing as tm\n"
          ],
          "name": "stderr"
        }
      ]
    },
    {
      "cell_type": "code",
      "metadata": {
        "colab": {
          "base_uri": "https://localhost:8080/",
          "height": 142
        },
        "id": "-kffsWzMLVpM",
        "outputId": "50d71380-b0bf-47d5-a692-0b2d0d4ee371"
      },
      "source": [
        "post = posthoc_nemenyi([amostra9,amostra10,amostra11])\n",
        "post"
      ],
      "execution_count": 45,
      "outputs": [
        {
          "output_type": "execute_result",
          "data": {
            "text/html": [
              "<div>\n",
              "<style scoped>\n",
              "    .dataframe tbody tr th:only-of-type {\n",
              "        vertical-align: middle;\n",
              "    }\n",
              "\n",
              "    .dataframe tbody tr th {\n",
              "        vertical-align: top;\n",
              "    }\n",
              "\n",
              "    .dataframe thead th {\n",
              "        text-align: right;\n",
              "    }\n",
              "</style>\n",
              "<table border=\"1\" class=\"dataframe\">\n",
              "  <thead>\n",
              "    <tr style=\"text-align: right;\">\n",
              "      <th></th>\n",
              "      <th>1</th>\n",
              "      <th>2</th>\n",
              "      <th>3</th>\n",
              "    </tr>\n",
              "  </thead>\n",
              "  <tbody>\n",
              "    <tr>\n",
              "      <th>1</th>\n",
              "      <td>1.000000e+00</td>\n",
              "      <td>1.862077e-02</td>\n",
              "      <td>1.118919e-30</td>\n",
              "    </tr>\n",
              "    <tr>\n",
              "      <th>2</th>\n",
              "      <td>1.862077e-02</td>\n",
              "      <td>1.000000e+00</td>\n",
              "      <td>5.192946e-18</td>\n",
              "    </tr>\n",
              "    <tr>\n",
              "      <th>3</th>\n",
              "      <td>1.118919e-30</td>\n",
              "      <td>5.192946e-18</td>\n",
              "      <td>1.000000e+00</td>\n",
              "    </tr>\n",
              "  </tbody>\n",
              "</table>\n",
              "</div>"
            ],
            "text/plain": [
              "              1             2             3\n",
              "1  1.000000e+00  1.862077e-02  1.118919e-30\n",
              "2  1.862077e-02  1.000000e+00  5.192946e-18\n",
              "3  1.118919e-30  5.192946e-18  1.000000e+00"
            ]
          },
          "metadata": {
            "tags": []
          },
          "execution_count": 45
        }
      ]
    },
    {
      "cell_type": "code",
      "metadata": {
        "colab": {
          "base_uri": "https://localhost:8080/"
        },
        "id": "Qfu6mNnhLiFs",
        "outputId": "dd5d6b11-49ac-44bc-a2c4-8d8d56b58180"
      },
      "source": [
        "for i in range(len(post)):\n",
        "  for j in range(i+1,len(post)):\n",
        "    if post.iloc[i,j]<0.05:\n",
        "      print('amostras',i,'e',j,'são diferentes')\n",
        "    else:\n",
        "      print('amostras',i,'e',j,'são iguais')"
      ],
      "execution_count": 46,
      "outputs": [
        {
          "output_type": "stream",
          "text": [
            "amostras 0 e 1 são diferentes\n",
            "amostras 0 e 2 são diferentes\n",
            "amostras 1 e 2 são diferentes\n"
          ],
          "name": "stdout"
        }
      ]
    }
  ]
}