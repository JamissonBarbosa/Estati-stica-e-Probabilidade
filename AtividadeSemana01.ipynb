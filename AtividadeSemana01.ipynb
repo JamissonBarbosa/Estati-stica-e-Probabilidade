{
  "nbformat": 4,
  "nbformat_minor": 0,
  "metadata": {
    "colab": {
      "name": "AtividadeSemana01.ipynb",
      "provenance": [],
      "collapsed_sections": []
    },
    "kernelspec": {
      "name": "python3",
      "display_name": "Python 3"
    }
  },
  "cells": [
    {
      "cell_type": "markdown",
      "metadata": {
        "id": "Wiv5_A12ZZja"
      },
      "source": [
        "# Vendas de Videogame\n",
        "\n",
        "* Este conjunto de dados contém uma lista de videogames e suas respectivas vendas.\n",
        "\n",
        "\n",
        "\n"
      ]
    },
    {
      "cell_type": "code",
      "metadata": {
        "id": "wNnV5dE4Y0a1"
      },
      "source": [
        "#Importando Bibliotecas \n",
        "import pandas as pd\n",
        "import numpy as np\n"
      ],
      "execution_count": null,
      "outputs": []
    },
    {
      "cell_type": "code",
      "metadata": {
        "id": "yNISHJJQZXQC",
        "outputId": "1a2b6c5b-5951-48d4-b102-fc232ed9753a",
        "colab": {
          "base_uri": "https://localhost:8080/",
          "height": 292
        }
      },
      "source": [
        "#Carregandp base de dados\n",
        "\n",
        "df = pd.read_csv('/content/drive/My Drive/vgsales.csv')\n",
        "df.head()"
      ],
      "execution_count": null,
      "outputs": [
        {
          "output_type": "execute_result",
          "data": {
            "text/html": [
              "<div>\n",
              "<style scoped>\n",
              "    .dataframe tbody tr th:only-of-type {\n",
              "        vertical-align: middle;\n",
              "    }\n",
              "\n",
              "    .dataframe tbody tr th {\n",
              "        vertical-align: top;\n",
              "    }\n",
              "\n",
              "    .dataframe thead th {\n",
              "        text-align: right;\n",
              "    }\n",
              "</style>\n",
              "<table border=\"1\" class=\"dataframe\">\n",
              "  <thead>\n",
              "    <tr style=\"text-align: right;\">\n",
              "      <th></th>\n",
              "      <th>Rank</th>\n",
              "      <th>Name</th>\n",
              "      <th>Platform</th>\n",
              "      <th>Year</th>\n",
              "      <th>Genre</th>\n",
              "      <th>Publisher</th>\n",
              "      <th>NA_Sales</th>\n",
              "      <th>EU_Sales</th>\n",
              "      <th>JP_Sales</th>\n",
              "      <th>Other_Sales</th>\n",
              "      <th>Global_Sales</th>\n",
              "    </tr>\n",
              "  </thead>\n",
              "  <tbody>\n",
              "    <tr>\n",
              "      <th>0</th>\n",
              "      <td>1</td>\n",
              "      <td>Wii Sports</td>\n",
              "      <td>Wii</td>\n",
              "      <td>2006.0</td>\n",
              "      <td>Sports</td>\n",
              "      <td>Nintendo</td>\n",
              "      <td>41.49</td>\n",
              "      <td>29.02</td>\n",
              "      <td>3.77</td>\n",
              "      <td>8.46</td>\n",
              "      <td>82.74</td>\n",
              "    </tr>\n",
              "    <tr>\n",
              "      <th>1</th>\n",
              "      <td>2</td>\n",
              "      <td>Super Mario Bros.</td>\n",
              "      <td>NES</td>\n",
              "      <td>1985.0</td>\n",
              "      <td>Platform</td>\n",
              "      <td>Nintendo</td>\n",
              "      <td>29.08</td>\n",
              "      <td>3.58</td>\n",
              "      <td>6.81</td>\n",
              "      <td>0.77</td>\n",
              "      <td>40.24</td>\n",
              "    </tr>\n",
              "    <tr>\n",
              "      <th>2</th>\n",
              "      <td>3</td>\n",
              "      <td>Mario Kart Wii</td>\n",
              "      <td>Wii</td>\n",
              "      <td>2008.0</td>\n",
              "      <td>Racing</td>\n",
              "      <td>Nintendo</td>\n",
              "      <td>15.85</td>\n",
              "      <td>12.88</td>\n",
              "      <td>3.79</td>\n",
              "      <td>3.31</td>\n",
              "      <td>35.82</td>\n",
              "    </tr>\n",
              "    <tr>\n",
              "      <th>3</th>\n",
              "      <td>4</td>\n",
              "      <td>Wii Sports Resort</td>\n",
              "      <td>Wii</td>\n",
              "      <td>2009.0</td>\n",
              "      <td>Sports</td>\n",
              "      <td>Nintendo</td>\n",
              "      <td>15.75</td>\n",
              "      <td>11.01</td>\n",
              "      <td>3.28</td>\n",
              "      <td>2.96</td>\n",
              "      <td>33.00</td>\n",
              "    </tr>\n",
              "    <tr>\n",
              "      <th>4</th>\n",
              "      <td>5</td>\n",
              "      <td>Pokemon Red/Pokemon Blue</td>\n",
              "      <td>GB</td>\n",
              "      <td>1996.0</td>\n",
              "      <td>Role-Playing</td>\n",
              "      <td>Nintendo</td>\n",
              "      <td>11.27</td>\n",
              "      <td>8.89</td>\n",
              "      <td>10.22</td>\n",
              "      <td>1.00</td>\n",
              "      <td>31.37</td>\n",
              "    </tr>\n",
              "  </tbody>\n",
              "</table>\n",
              "</div>"
            ],
            "text/plain": [
              "   Rank                      Name Platform  ...  JP_Sales Other_Sales Global_Sales\n",
              "0     1                Wii Sports      Wii  ...      3.77        8.46        82.74\n",
              "1     2         Super Mario Bros.      NES  ...      6.81        0.77        40.24\n",
              "2     3            Mario Kart Wii      Wii  ...      3.79        3.31        35.82\n",
              "3     4         Wii Sports Resort      Wii  ...      3.28        2.96        33.00\n",
              "4     5  Pokemon Red/Pokemon Blue       GB  ...     10.22        1.00        31.37\n",
              "\n",
              "[5 rows x 11 columns]"
            ]
          },
          "metadata": {
            "tags": []
          },
          "execution_count": 4
        }
      ]
    },
    {
      "cell_type": "markdown",
      "metadata": {
        "id": "SeOoE65PmjuE"
      },
      "source": [
        "Podemos ver  abaixo a aplitude com base nas vendas de videogame na América do Norte(vendasAN), Europa(vendasEU) e Japão(vendasJP)"
      ]
    },
    {
      "cell_type": "code",
      "metadata": {
        "id": "bpHW1OugawtK",
        "outputId": "0d13a1ed-c083-48bb-fdb9-db4bec96a856",
        "colab": {
          "base_uri": "https://localhost:8080/",
          "height": 34
        }
      },
      "source": [
        "#calcular amplitude total\n",
        "vendasAN = df.NA_Sales\n",
        "maior = max(vendasAN)\n",
        "menor = min(vendasAN)\n",
        "amplitudeAN = maior - menor\n",
        "menor, maior, amplitudeAN"
      ],
      "execution_count": null,
      "outputs": [
        {
          "output_type": "execute_result",
          "data": {
            "text/plain": [
              "(0.0, 41.49, 41.49)"
            ]
          },
          "metadata": {
            "tags": []
          },
          "execution_count": 5
        }
      ]
    },
    {
      "cell_type": "code",
      "metadata": {
        "id": "SdfZi6ZsknPk",
        "outputId": "a842cc04-f608-4cf8-a8eb-42b315ad6c86",
        "colab": {
          "base_uri": "https://localhost:8080/",
          "height": 34
        }
      },
      "source": [
        "#calcular amplitude total\n",
        "vendasEU = df.EU_Sales\n",
        "maior = max(vendasEU)\n",
        "menor = min(vendasEU)\n",
        "amplitudeEU = maior - menor\n",
        "menor, maior, amplitudeEU"
      ],
      "execution_count": null,
      "outputs": [
        {
          "output_type": "execute_result",
          "data": {
            "text/plain": [
              "(0.0, 29.02, 29.02)"
            ]
          },
          "metadata": {
            "tags": []
          },
          "execution_count": 6
        }
      ]
    },
    {
      "cell_type": "code",
      "metadata": {
        "id": "WQOblHulkrNh",
        "outputId": "dcb32daa-ed40-4b59-aabe-8b3f1cfa1856",
        "colab": {
          "base_uri": "https://localhost:8080/",
          "height": 34
        }
      },
      "source": [
        "#calcular amplitude total\n",
        "vendasJP = df.JP_Sales\n",
        "maior = max(vendasJP)\n",
        "menor = min(vendasJP)\n",
        "amplitudeJP = maior - menor\n",
        "menor, maior, amplitudeJP\n"
      ],
      "execution_count": null,
      "outputs": [
        {
          "output_type": "execute_result",
          "data": {
            "text/plain": [
              "(0.0, 10.22, 10.22)"
            ]
          },
          "metadata": {
            "tags": []
          },
          "execution_count": 7
        }
      ]
    },
    {
      "cell_type": "code",
      "metadata": {
        "id": "xKwgIn-AtwZd"
      },
      "source": [
        "#determne um numero de classes\n",
        "nClasses = 7"
      ],
      "execution_count": null,
      "outputs": []
    },
    {
      "cell_type": "markdown",
      "metadata": {
        "id": "C-G-Xt36t-xC"
      },
      "source": [
        "Após determinar o número de classes é possível encontrar a amplitude de classe e os limites de classes"
      ]
    },
    {
      "cell_type": "code",
      "metadata": {
        "id": "eldkEuD_t-Wa",
        "outputId": "ff590538-6132-4d5f-ba79-bcf65a9eadb8",
        "colab": {
          "base_uri": "https://localhost:8080/",
          "height": 34
        }
      },
      "source": [
        "amplitudeClasse = round(amplitudeAN/nClasses)\n",
        "amplitudeClasse"
      ],
      "execution_count": null,
      "outputs": [
        {
          "output_type": "execute_result",
          "data": {
            "text/plain": [
              "6"
            ]
          },
          "metadata": {
            "tags": []
          },
          "execution_count": 9
        }
      ]
    },
    {
      "cell_type": "code",
      "metadata": {
        "id": "BR9Fp7vFuoeZ",
        "outputId": "9150a2bc-4ec6-415c-ad7b-4b9c75f069b1",
        "colab": {
          "base_uri": "https://localhost:8080/",
          "height": 34
        }
      },
      "source": [
        "limites = [menor]\n",
        "for i in range(nClasses):\n",
        "  limites.append(limites[i]+amplitudeClasse)\n",
        "limites"
      ],
      "execution_count": null,
      "outputs": [
        {
          "output_type": "execute_result",
          "data": {
            "text/plain": [
              "[0.0, 6.0, 12.0, 18.0, 24.0, 30.0, 36.0, 42.0]"
            ]
          },
          "metadata": {
            "tags": []
          },
          "execution_count": 10
        }
      ]
    },
    {
      "cell_type": "markdown",
      "metadata": {
        "id": "Z8qh3qpVw4nU"
      },
      "source": [
        ""
      ]
    },
    {
      "cell_type": "code",
      "metadata": {
        "id": "Y67hEHNUw5H5",
        "outputId": "0d6b9225-542d-4233-e3de-d5992abad90d",
        "colab": {
          "base_uri": "https://localhost:8080/",
          "height": 136
        }
      },
      "source": [
        "frequency = {'classe1':0,'classe2':0,'classe3':0,'classe4':0,\n",
        "             'classe5':0, 'classe6':0, 'classe7':0}\n",
        "for numero in vendasAN:\n",
        "  if numero < limites[1]:\n",
        "    frequency['classe1'] +=1\n",
        "  elif numero < limites[2]:\n",
        "    frequency['classe2'] +=1\n",
        "  elif numero < limites[3]:\n",
        "    frequency['classe3'] +=1\n",
        "  elif numero < limites[4]:\n",
        "    frequency['classe4'] +=1\n",
        "  elif numero < limites[5]:\n",
        "    frequency['classe5'] +=1\n",
        "  elif numero < limites[6]:\n",
        "    frequency['classe6'] +=1\n",
        "  else:\n",
        "    frequency['classe7'] +=1\n",
        "frequency"
      ],
      "execution_count": null,
      "outputs": [
        {
          "output_type": "execute_result",
          "data": {
            "text/plain": [
              "{'classe1': 16555,\n",
              " 'classe2': 33,\n",
              " 'classe3': 6,\n",
              " 'classe4': 1,\n",
              " 'classe5': 2,\n",
              " 'classe6': 0,\n",
              " 'classe7': 1}"
            ]
          },
          "metadata": {
            "tags": []
          },
          "execution_count": 11
        }
      ]
    },
    {
      "cell_type": "markdown",
      "metadata": {
        "id": "A1jp-J_i0CJ2"
      },
      "source": [
        "A classe1 teve um valor muito maior que as demais classes"
      ]
    },
    {
      "cell_type": "code",
      "metadata": {
        "id": "bMgvX81i0UX8",
        "outputId": "62f2f3aa-47e2-4080-f4fb-9b507a9d3f41",
        "colab": {
          "base_uri": "https://localhost:8080/",
          "height": 136
        }
      },
      "source": [
        "#Frequência Relativa\n",
        "ocorrencias = len(vendasAN)\n",
        "for classe in frequency:\n",
        "  frequency[classe] = frequency[classe]/ocorrencias\n",
        "frequency"
      ],
      "execution_count": null,
      "outputs": [
        {
          "output_type": "execute_result",
          "data": {
            "text/plain": [
              "{'classe1': 0.9974093264248705,\n",
              " 'classe2': 0.0019881913483552234,\n",
              " 'classe3': 0.0003614893360645861,\n",
              " 'classe4': 6.0248222677431016e-05,\n",
              " 'classe5': 0.00012049644535486203,\n",
              " 'classe6': 0.0,\n",
              " 'classe7': 6.0248222677431016e-05}"
            ]
          },
          "metadata": {
            "tags": []
          },
          "execution_count": 12
        }
      ]
    },
    {
      "cell_type": "markdown",
      "metadata": {
        "id": "qpJzCDsa0xtH"
      },
      "source": [
        "Com a frequência relativa fica mais claro ainda ver que a classe1 teve mais de noventa por cento de frência"
      ]
    },
    {
      "cell_type": "code",
      "metadata": {
        "id": "wA_hhDWm1AyD"
      },
      "source": [
        "import matplotlib.pyplot as plt"
      ],
      "execution_count": null,
      "outputs": []
    },
    {
      "cell_type": "code",
      "metadata": {
        "id": "bk7KzbCL1I4P",
        "outputId": "1acb3729-2868-43be-ace9-cbdb24021023",
        "colab": {
          "base_uri": "https://localhost:8080/",
          "height": 295
        }
      },
      "source": [
        "#histograma de frequência\n",
        "plt.hist(vendasAN,7)\n",
        "plt.xlabel('Classes')\n",
        "plt.ylabel('Quantidade')\n",
        "plt.title('Ocorrências das Classes')\n",
        "plt.grid(True)\n",
        "plt.show()"
      ],
      "execution_count": null,
      "outputs": [
        {
          "output_type": "display_data",
          "data": {
            "image/png": "[encoded data removed]",
            "text/plain": [
              "<Figure size 432x288 with 1 Axes>"
            ]
          },
          "metadata": {
            "tags": [],
            "needs_background": "light"
          }
        }
      ]
    },
    {
      "cell_type": "markdown",
      "metadata": {
        "id": "InIcOKJs16kj"
      },
      "source": [
        "# Medidas de Tendência Central\n",
        "\n",
        "*   As três medidas de tendência central mais comumente usadas são a média, a mediana e a moda\n",
        "\n"
      ]
    },
    {
      "cell_type": "markdown",
      "metadata": {
        "id": "0-MC7d-D2Evx"
      },
      "source": [
        "# Média\n",
        "* A média de um conjunto de dados é a soma dos valores de dados dividida pelo número de total de valores"
      ]
    },
    {
      "cell_type": "code",
      "metadata": {
        "id": "kbKH6egS2Qxs",
        "outputId": "b459dd10-5f31-412d-be54-5ddf5c3fbfb9",
        "colab": {
          "base_uri": "https://localhost:8080/",
          "height": 34
        }
      },
      "source": [
        "#Média\n",
        "np.mean(vendasAN)"
      ],
      "execution_count": null,
      "outputs": [
        {
          "output_type": "execute_result",
          "data": {
            "text/plain": [
              "0.26466742981084057"
            ]
          },
          "metadata": {
            "tags": []
          },
          "execution_count": 15
        }
      ]
    },
    {
      "cell_type": "markdown",
      "metadata": {
        "id": "0kDr5NH9JxaI"
      },
      "source": [
        "# Mediana\n",
        "* A mediana de um conjunto de dados é um valor que está no meio dos dados quando o conjunto de dados é ordenado"
      ]
    },
    {
      "cell_type": "code",
      "metadata": {
        "id": "XKimOblNJpj-",
        "outputId": "6ec63c91-0af6-4bd3-8b0d-11d56923ac97",
        "colab": {
          "base_uri": "https://localhost:8080/",
          "height": 34
        }
      },
      "source": [
        "#Mediana\n",
        "np.median(vendasAN)"
      ],
      "execution_count": null,
      "outputs": [
        {
          "output_type": "execute_result",
          "data": {
            "text/plain": [
              "0.08"
            ]
          },
          "metadata": {
            "tags": []
          },
          "execution_count": 16
        }
      ]
    },
    {
      "cell_type": "markdown",
      "metadata": {
        "id": "2AFh39eYKJ_f"
      },
      "source": [
        "# Moda\n",
        "* A moda de um conjunto de dados é uma entrada do conjunto que ocorre com maior frequência"
      ]
    },
    {
      "cell_type": "code",
      "metadata": {
        "id": "yCb0sc5RKMcW",
        "outputId": "db70d9bd-57d2-4136-dd11-6cc210e491c9",
        "colab": {
          "base_uri": "https://localhost:8080/",
          "height": 34
        }
      },
      "source": [
        "#Moda\n",
        "from scipy import stats\n",
        "stats.mode(vendasAN)"
      ],
      "execution_count": null,
      "outputs": [
        {
          "output_type": "execute_result",
          "data": {
            "text/plain": [
              "ModeResult(mode=array([0.]), count=array([4499]))"
            ]
          },
          "metadata": {
            "tags": []
          },
          "execution_count": 17
        }
      ]
    },
    {
      "cell_type": "markdown",
      "metadata": {
        "id": "b3-vpXjxNJfu"
      },
      "source": [
        "# Medidas de Variação\n",
        "\n",
        "### Amplitude\n",
        "*A amplitude de um conjunto de dados é a diferença entre as entradas máximas e mı́nimas no conjunto"
      ]
    },
    {
      "cell_type": "code",
      "metadata": {
        "id": "FXwdH5K6NlGl",
        "outputId": "f6cbec3c-cb4a-46e7-96f3-3608e1085fb7",
        "colab": {
          "base_uri": "https://localhost:8080/",
          "height": 34
        }
      },
      "source": [
        "amplitude = max(vendasAN) - min(vendasAN)\n",
        "amplitude"
      ],
      "execution_count": null,
      "outputs": [
        {
          "output_type": "execute_result",
          "data": {
            "text/plain": [
              "41.49"
            ]
          },
          "metadata": {
            "tags": []
          },
          "execution_count": 22
        }
      ]
    },
    {
      "cell_type": "markdown",
      "metadata": {
        "id": "8ERL_GN2NnfF"
      },
      "source": [
        "### Variância e Desvio Padrão\n",
        "\n",
        "* A variância de um conjunto de dados é a média das diferenças quadrada entre cada observação e a média do conjunto\n",
        "\n",
        "* O desvio padrão é simplesmente a raiz quadrada da variância"
      ]
    },
    {
      "cell_type": "code",
      "metadata": {
        "id": "zIZM4iOBNn4V",
        "outputId": "0e23ca32-fce4-4599-fadd-d89e0c44d3ea",
        "colab": {
          "base_uri": "https://localhost:8080/",
          "height": 34
        }
      },
      "source": [
        "var = 0\n",
        "media = np.mean(vendasAN)\n",
        "for numero in vendasAN:\n",
        "  var += (numero - media)**2\n",
        "var = var/len(vendasAN)\n",
        "var"
      ],
      "execution_count": null,
      "outputs": [
        {
          "output_type": "execute_result",
          "data": {
            "text/plain": [
              "0.666930986517471"
            ]
          },
          "metadata": {
            "tags": []
          },
          "execution_count": 23
        }
      ]
    },
    {
      "cell_type": "code",
      "metadata": {
        "id": "WnamgBh-N01D",
        "outputId": "d1334818-a59c-43ad-a7cc-bf1d148ea48e",
        "colab": {
          "base_uri": "https://localhost:8080/",
          "height": 34
        }
      },
      "source": [
        "desv = var**(1/2)\n",
        "desv"
      ],
      "execution_count": null,
      "outputs": [
        {
          "output_type": "execute_result",
          "data": {
            "text/plain": [
              "0.8166584270779742"
            ]
          },
          "metadata": {
            "tags": []
          },
          "execution_count": 24
        }
      ]
    },
    {
      "cell_type": "code",
      "metadata": {
        "id": "v3gwjlCgwJoq",
        "outputId": "e66da0ee-c146-423b-986b-9a4a51e30dff",
        "colab": {
          "base_uri": "https://localhost:8080/",
          "height": 34
        }
      },
      "source": [
        "np.var(vendasAN)"
      ],
      "execution_count": null,
      "outputs": [
        {
          "output_type": "execute_result",
          "data": {
            "text/plain": [
              "0.666930986517471"
            ]
          },
          "metadata": {
            "tags": []
          },
          "execution_count": 25
        }
      ]
    },
    {
      "cell_type": "code",
      "metadata": {
        "id": "s7AImxw2wJVM",
        "outputId": "caded375-87fa-40ea-8547-248e19075619",
        "colab": {
          "base_uri": "https://localhost:8080/",
          "height": 34
        }
      },
      "source": [
        "np.std(vendasAN)"
      ],
      "execution_count": null,
      "outputs": [
        {
          "output_type": "execute_result",
          "data": {
            "text/plain": [
              "0.8166584270779742"
            ]
          },
          "metadata": {
            "tags": []
          },
          "execution_count": 26
        }
      ]
    },
    {
      "cell_type": "markdown",
      "metadata": {
        "id": "DnT9eL8JwXUG"
      },
      "source": [
        "## Interpretando variância e desvio padrão"
      ]
    },
    {
      "cell_type": "markdown",
      "metadata": {
        "id": "lwO_vNwCw7ny"
      },
      "source": [
        "## Medidas de Posição\n",
        "\n",
        "### Fractis\n",
        "\n",
        "* Número que separam ou dividem um conjunto de dados ordenado em partes iguais"
      ]
    },
    {
      "cell_type": "code",
      "metadata": {
        "id": "TdiKQpXQw8Fk",
        "outputId": "f576d2f9-4901-4ad6-aba2-a05e01dfc357",
        "colab": {
          "base_uri": "https://localhost:8080/",
          "height": 295
        }
      },
      "source": [
        "plt.boxplot(vendasAN)\n",
        "plt.title('Boxplot do número de Vendas de videogame na America do Norte')\n",
        "plt.xlabel('Quantidade')\n",
        "plt.grid()\n",
        "plt.show()"
      ],
      "execution_count": null,
      "outputs": [
        {
          "output_type": "display_data",
          "data": {
            "image/png": "[encoded data removed]",
            "text/plain": [
              "<Figure size 432x288 with 1 Axes>"
            ]
          },
          "metadata": {
            "tags": [],
            "needs_background": "light"
          }
        }
      ]
    },
    {
      "cell_type": "markdown",
      "metadata": {
        "id": "XPF4cqFh2mAI"
      },
      "source": [
        "A grande maioria das vendas ficaram em até dez milhoes, tendo uma boa quantidade de vendas de 10 a 15 milhões de vendas. "
      ]
    }
  ]
}