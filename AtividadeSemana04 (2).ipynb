{
  "nbformat": 4,
  "nbformat_minor": 0,
  "metadata": {
    "colab": {
      "name": "AtividadeSemana04.ipynb",
      "provenance": [],
      "collapsed_sections": []
    },
    "kernelspec": {
      "name": "python3",
      "display_name": "Python 3"
    }
  },
  "cells": [
    {
      "cell_type": "markdown",
      "metadata": {
        "id": "J3XzYZlBLXZI"
      },
      "source": [
        "1. Seja uma população com distribuição normal com variância σ 2 = 36. Toma-se uma amostra aleatória de tamanho n = 16 e a média estimada\n",
        "para a amostra foi de x = 43. Ao nı́vel de onfiância α = 90%, calcule ointervalo de confiança para essa média.\n",
        "\n",
        "Respostas:\n",
        "\n",
        "$\\sigma = 36 = 6$  $\\alpha = 0,05 =1,64$\n",
        "\n",
        "n = 16\n",
        "\n",
        "x = 43\n",
        "\n",
        "$E = z_c\\cdot \\dfrac{\\sigma}{\\sqrt{n}} = 1,64.\\dfrac{6}{\\sqrt{16}} = {1,64}\\cdot\\dfrac{6}{4} = 2,46$\n",
        "\n",
        "* O invervalo de confiança então será dado por:\n",
        "    * Extremo esquerdo: $\\overline{x} - E = 43 - 2,46 = 40,56$\n",
        "    * Extremo direito: $\\overline{x} + E = 43 + 2,46 = 45,46$\n",
        "    * Intervalo: $40,56 < \\mu < 45,46$\n"
      ]
    },
    {
      "cell_type": "markdown",
      "metadata": {
        "id": "ElAkl3_jLu-A"
      },
      "source": [
        "2. O departamento de agricultura dos EUA reporta que o custo médio para\n",
        "se criar um filho até a idade de 2 anos na zona rural é de US 10.460 . Foi selecionada uma amostra aleatória de 900 crianças e descobriu-se que a média dos custos para essa amostra foi de US$ 10.345 com desvio padrão σ = 1, 540. Qual o intervalo de confiança para essa média, utilizando uma confiança de 95%.\n",
        "\n",
        "Respostas:\n",
        "\n",
        "$\\sigma = 1,54$  $\\alpha = 0,025 =1,96$\n",
        "\n",
        "n = 900\n",
        "\n",
        "x = 10.345\n",
        "\n",
        "$E = z_c\\cdot \\dfrac{\\sigma}{\\sqrt{n}} = 1,96.\\dfrac{1,54}{\\sqrt{900}} = {1,96}\\cdot\\dfrac{1,54}{30} =0,1006 $\n",
        "\n",
        "* O invervalo de confiança então será dado por:\n",
        "    * Extremo esquerdo: $\\overline{x} - E = 10.345 - 0,1006 = 10,244$\n",
        "    * Extremo direito: $\\overline{x} + E = 10.345 + 0,1006 = 10,445$\n",
        "    * Intervalo: $10,244 < \\mu < 10,445$"
      ]
    },
    {
      "cell_type": "markdown",
      "metadata": {
        "id": "zy6XywO5LxCp"
      },
      "source": [
        "3. Uma fábrica de cigarros está analisando o ı́ndice de nicotina dos cigarros\n",
        "da marca X. Para isso contrata um laboratório, que realiza 10 análises do\n",
        "ı́ndice, obtendo: 26, 24, 23, 22, 28, 25, 27, 26, 28, 24. Sabendo-se que o\n",
        "ı́ndice de nicotina dos cigarros da marca X se distribui normalmente com\n",
        "variância 5,36 mg 2 . Qual o intervalo de confiança para essa média, ao\n",
        "nı́vel de confiança de 95%?\n",
        "\n",
        "Respostas:\n",
        "\n",
        "$s = 5,36$  $\\alpha = 0,025 =1,96$\n",
        "\n",
        "n = 10\n",
        "\n",
        "x = 25,3\n",
        "\n",
        "$E = z_c\\cdot \\dfrac{\\sigma}{\\sqrt{n}} = 1,96.\\dfrac{5,36}{\\sqrt{10}} = {1,96}\\cdot\\dfrac{5,36}{3,16} = 2,32$\n",
        "\n",
        "* O invervalo de confiança então será dado por:\n",
        "    * Extremo esquerdo: $\\overline{x} - E = 10 - 2,32 = 7,68$\n",
        "    * Extremo direito: $\\overline{x} + E = 10 + 2,32 = 12,32$\n",
        "    * Intervalo: $7,68 < \\mu < 12,32$\n",
        "\n",
        "\n"
      ]
    },
    {
      "cell_type": "markdown",
      "metadata": {
        "id": "lNnLQECqL04c"
      },
      "source": [
        "4. Um fabricante de lajotas de cerâmica introduz um novo material em sua\n",
        "fabricação e acredita que aumentará a resistência média. A resistência das\n",
        "lajotas tem distribuição normal com parametros desconhecidos. Retira-se\n",
        "uma amostra de 30 lajotas, obtendo x = 210kg e s = 12 kg. Ao nı́vel de\n",
        "confiança de 90%, qual o intervalo de confiança para a média?\n",
        "\n",
        "Resposta:\n",
        "\n",
        "$s = 12$  $\\alpha = 0,05 =1,64$\n",
        "\n",
        "n = 30\n",
        "\n",
        "x = 210\n",
        "\n",
        "$E = z_c\\cdot \\dfrac{s}{\\sqrt{n}} = 1,64.\\dfrac{12}{\\sqrt{30}} = {1,64}\\cdot\\dfrac{12}{5,47} = 3,597$\n",
        "\n",
        "* O invervalo de confiança então será dado por:\n",
        "    * Extremo esquerdo: $\\overline{x} - E = 210 - 3,597 = 206,403$\n",
        "    * Extremo direito: $\\overline{x} + E = 210 - 3,597 = 213,597 $\n",
        "    * Intervalo: $206,403 < \\mu < 213,597$\n",
        "\n"
      ]
    },
    {
      "cell_type": "markdown",
      "metadata": {
        "id": "Eqo2xbWDL4YE"
      },
      "source": [
        "5. Uma máquina é projetada para fazer esferas de aço de 1 cm de raio. Uma\n",
        "amostra de 10 esferas é produzida e tem o raio médio de 1,004 cm com\n",
        "s = 0, 003. Qual o intervalo de confiança para essa média ao nı́vel de\n",
        "confiança de 90%?\n",
        "\n",
        "Resposta:\n",
        "\n",
        "$s = 0,003$  $\\alpha = 0,05 =1,64$\n",
        "\n",
        "n = 10\n",
        "\n",
        "x = 1,004\n",
        "\n",
        "$E = z_c\\cdot \\dfrac{s}{\\sqrt{n}} = 1,64.\\dfrac{0,003}{\\sqrt{10}} = {1,64}\\cdot\\dfrac{0,003}{3,16} = 0,0015$\n",
        "\n",
        "* O invervalo de confiança então será dado por:\n",
        "    * Extremo esquerdo: $\\overline{x} - E = 1,004 - 0,0015 = 1,0025$\n",
        "    * Extremo direito: $\\overline{x} + E = 1,004+ 0,0015 = 1,0055$\n",
        "    * Intervalo: $1,0025 < \\mu < 1,0055$"
      ]
    },
    {
      "cell_type": "markdown",
      "metadata": {
        "id": "vbS1W0CuL8hC"
      },
      "source": [
        "6. Um certo tipo de rato apresenta, nos três primeiros meses de vida, um\n",
        "ganho médio de peso de 58g. Uma amostra de 10 ratos foi alimentada\n",
        "desde o nascimento até a idade de 3 meses com uma ração especial, e o\n",
        "ganho de peso médio dos ratos foi de 55, 58, 60, 62, 65, 67, 54, 64, 62 e 68. Com uma probabilidade de 95%, o intervalo de confiança para essa amostra contém a média de 58g?\n",
        "\n",
        "Resposta:\n",
        "\n",
        "* $\\phi = 10-1 = 9$, $\\alpha = 0,025$\n",
        "* $s = 22,72$\n",
        "* $t_{9,0.025} = 2,262$\n",
        "* $E = t_{\\phi,\\alpha}\\cdot \\dfrac{s}{\\sqrt{n}} = 2,262\\cdot\\dfrac{22,72}{\\sqrt{10}} = 14,245$\n",
        "* $P(\\overline{x} - t_{\\phi,\\alpha}\\cdot \\dfrac{s}{\\sqrt{n}} < \\mu < \\overline{x} + t_{\\phi,\\alpha}\\cdot \\dfrac{s}{\\sqrt{n}}) = 1 - \\alpha$\n",
        "* $P(58- 14,245 < \\mu < 58 + 14,245) = 0.95$\n",
        "* $P(43,755 < \\mu < 72,245 ) = 0.95$"
      ]
    }
  ]
}