{
  "nbformat": 4,
  "nbformat_minor": 0,
  "metadata": {
    "colab": {
      "name": "AtividadeSemana02.ipynb",
      "provenance": [],
      "collapsed_sections": [],
      "toc_visible": true
    },
    "kernelspec": {
      "name": "python3",
      "display_name": "Python 3"
    }
  },
  "cells": [
    {
      "cell_type": "markdown",
      "metadata": {
        "id": "P0gg5Pat21ZH"
      },
      "source": [
        "#Atividade Semana 02\n",
        "\n",
        "Vocês devem encontrar um dataset que haja alguma variável de Bernoulli e fazer as seguintes análises:\n",
        "\n",
        "1. Realizar os três tipos de amostragem estudados\n",
        "\n",
        "2. Calcular p e q, a média e o desvio padrão para a variável de Bernoulli\n",
        "\n",
        "3. Modelar a distribuição de probabilidade Binomial para a variável em n tentativas."
      ]
    },
    {
      "cell_type": "markdown",
      "metadata": {
        "id": "QESbYdpJ4_Bu"
      },
      "source": [
        "#Registro Clínicos de insuficiência cardiáca\n",
        "\n",
        "data set contém um conjunto de características\n",
        "\n",
        "que podem ser usadas para prever a mortalidade por\n",
        "\n",
        "insuficiência cardíaca."
      ]
    },
    {
      "cell_type": "code",
      "metadata": {
        "id": "wNnV5dE4Y0a1"
      },
      "source": [
        "#Importando Bibliotecas \n",
        "import pandas as pd\n",
        "import numpy as np\n",
        "import matplotlib as plt\n"
      ],
      "execution_count": null,
      "outputs": []
    },
    {
      "cell_type": "code",
      "metadata": {
        "id": "yNISHJJQZXQC",
        "outputId": "b7612290-cf99-4b2f-cdee-61691aa7e17c",
        "colab": {
          "base_uri": "https://localhost:8080/",
          "height": 224
        }
      },
      "source": [
        "#Carregandp base de dados\n",
        "df = pd.read_csv('/content/drive/My Drive/heart_failure_clinical.csv')\n",
        "df.head()"
      ],
      "execution_count": null,
      "outputs": [
        {
          "output_type": "execute_result",
          "data": {
            "text/html": [
              "<div>\n",
              "<style scoped>\n",
              "    .dataframe tbody tr th:only-of-type {\n",
              "        vertical-align: middle;\n",
              "    }\n",
              "\n",
              "    .dataframe tbody tr th {\n",
              "        vertical-align: top;\n",
              "    }\n",
              "\n",
              "    .dataframe thead th {\n",
              "        text-align: right;\n",
              "    }\n",
              "</style>\n",
              "<table border=\"1\" class=\"dataframe\">\n",
              "  <thead>\n",
              "    <tr style=\"text-align: right;\">\n",
              "      <th></th>\n",
              "      <th>age</th>\n",
              "      <th>anaemia</th>\n",
              "      <th>creatinine_phosphokinase</th>\n",
              "      <th>diabetes</th>\n",
              "      <th>ejection_fraction</th>\n",
              "      <th>high_blood_pressure</th>\n",
              "      <th>platelets</th>\n",
              "      <th>serum_creatinine</th>\n",
              "      <th>serum_sodium</th>\n",
              "      <th>sex</th>\n",
              "      <th>smoking</th>\n",
              "      <th>time</th>\n",
              "      <th>DEATH_EVENT</th>\n",
              "    </tr>\n",
              "  </thead>\n",
              "  <tbody>\n",
              "    <tr>\n",
              "      <th>0</th>\n",
              "      <td>75.0</td>\n",
              "      <td>0</td>\n",
              "      <td>582</td>\n",
              "      <td>0</td>\n",
              "      <td>20</td>\n",
              "      <td>1</td>\n",
              "      <td>265000.00</td>\n",
              "      <td>1.9</td>\n",
              "      <td>130</td>\n",
              "      <td>1</td>\n",
              "      <td>0</td>\n",
              "      <td>4</td>\n",
              "      <td>1</td>\n",
              "    </tr>\n",
              "    <tr>\n",
              "      <th>1</th>\n",
              "      <td>55.0</td>\n",
              "      <td>0</td>\n",
              "      <td>7861</td>\n",
              "      <td>0</td>\n",
              "      <td>38</td>\n",
              "      <td>0</td>\n",
              "      <td>263358.03</td>\n",
              "      <td>1.1</td>\n",
              "      <td>136</td>\n",
              "      <td>1</td>\n",
              "      <td>0</td>\n",
              "      <td>6</td>\n",
              "      <td>1</td>\n",
              "    </tr>\n",
              "    <tr>\n",
              "      <th>2</th>\n",
              "      <td>65.0</td>\n",
              "      <td>0</td>\n",
              "      <td>146</td>\n",
              "      <td>0</td>\n",
              "      <td>20</td>\n",
              "      <td>0</td>\n",
              "      <td>162000.00</td>\n",
              "      <td>1.3</td>\n",
              "      <td>129</td>\n",
              "      <td>1</td>\n",
              "      <td>1</td>\n",
              "      <td>7</td>\n",
              "      <td>1</td>\n",
              "    </tr>\n",
              "    <tr>\n",
              "      <th>3</th>\n",
              "      <td>50.0</td>\n",
              "      <td>1</td>\n",
              "      <td>111</td>\n",
              "      <td>0</td>\n",
              "      <td>20</td>\n",
              "      <td>0</td>\n",
              "      <td>210000.00</td>\n",
              "      <td>1.9</td>\n",
              "      <td>137</td>\n",
              "      <td>1</td>\n",
              "      <td>0</td>\n",
              "      <td>7</td>\n",
              "      <td>1</td>\n",
              "    </tr>\n",
              "    <tr>\n",
              "      <th>4</th>\n",
              "      <td>65.0</td>\n",
              "      <td>1</td>\n",
              "      <td>160</td>\n",
              "      <td>1</td>\n",
              "      <td>20</td>\n",
              "      <td>0</td>\n",
              "      <td>327000.00</td>\n",
              "      <td>2.7</td>\n",
              "      <td>116</td>\n",
              "      <td>0</td>\n",
              "      <td>0</td>\n",
              "      <td>8</td>\n",
              "      <td>1</td>\n",
              "    </tr>\n",
              "  </tbody>\n",
              "</table>\n",
              "</div>"
            ],
            "text/plain": [
              "    age  anaemia  creatinine_phosphokinase  ...  smoking  time  DEATH_EVENT\n",
              "0  75.0        0                       582  ...        0     4            1\n",
              "1  55.0        0                      7861  ...        0     6            1\n",
              "2  65.0        0                       146  ...        1     7            1\n",
              "3  50.0        1                       111  ...        0     7            1\n",
              "4  65.0        1                       160  ...        0     8            1\n",
              "\n",
              "[5 rows x 13 columns]"
            ]
          },
          "metadata": {
            "tags": []
          },
          "execution_count": 5
        }
      ]
    },
    {
      "cell_type": "markdown",
      "metadata": {
        "id": "dLd6gre36R5U"
      },
      "source": [
        "# Tipos de Amostragem\n",
        "* Aostragem Aleatória\n",
        "* Amostragem Estratificada\n",
        "* Amostragem Sistemática"
      ]
    },
    {
      "cell_type": "markdown",
      "metadata": {
        "id": "ForyggZA6vr_"
      },
      "source": [
        "## Amostragem Aleatória\n",
        "* Todos os membros de uma população têm chances iguais de serem selecionados"
      ]
    },
    {
      "cell_type": "code",
      "metadata": {
        "id": "C51UVf-_42SO",
        "outputId": "87dc6ffe-7515-4ab6-ff89-2b8449af37fe",
        "colab": {
          "base_uri": "https://localhost:8080/",
          "height": 34
        }
      },
      "source": [
        "#Amostragem Aleatória\n",
        "pacientAge = df.age\n",
        "pacientAge.max()\n"
      ],
      "execution_count": null,
      "outputs": [
        {
          "output_type": "execute_result",
          "data": {
            "text/plain": [
              "95.0"
            ]
          },
          "metadata": {
            "tags": []
          },
          "execution_count": 6
        }
      ]
    },
    {
      "cell_type": "markdown",
      "metadata": {
        "id": "JzFN6gKX9ogl"
      },
      "source": [
        "Fazemdo uso da lib random e possível selecionar uma quantidade aleatória de indivíduos sem repati-los\n"
      ]
    },
    {
      "cell_type": "code",
      "metadata": {
        "id": "l9UFU77A8JNZ",
        "outputId": "268e1e0c-6583-4cd0-c2e6-3c2ac1a8f4e6",
        "colab": {
          "base_uri": "https://localhost:8080/",
          "height": 1000
        }
      },
      "source": [
        "import random\n",
        "#Seleciona 100 paciente por idade sem repeti-los\n",
        "pacientSelected = random.sample(list(pacientAge), 100)\n",
        "pacientSelected"
      ],
      "execution_count": null,
      "outputs": [
        {
          "output_type": "execute_result",
          "data": {
            "text/plain": [
              "[42.0,\n",
              " 53.0,\n",
              " 60.0,\n",
              " 40.0,\n",
              " 50.0,\n",
              " 58.0,\n",
              " 47.0,\n",
              " 50.0,\n",
              " 60.667,\n",
              " 65.0,\n",
              " 60.0,\n",
              " 65.0,\n",
              " 59.0,\n",
              " 85.0,\n",
              " 70.0,\n",
              " 62.0,\n",
              " 75.0,\n",
              " 65.0,\n",
              " 58.0,\n",
              " 57.0,\n",
              " 65.0,\n",
              " 86.0,\n",
              " 42.0,\n",
              " 60.0,\n",
              " 72.0,\n",
              " 40.0,\n",
              " 49.0,\n",
              " 54.0,\n",
              " 62.0,\n",
              " 65.0,\n",
              " 45.0,\n",
              " 50.0,\n",
              " 60.0,\n",
              " 70.0,\n",
              " 66.0,\n",
              " 60.0,\n",
              " 49.0,\n",
              " 80.0,\n",
              " 62.0,\n",
              " 58.0,\n",
              " 50.0,\n",
              " 43.0,\n",
              " 60.0,\n",
              " 50.0,\n",
              " 75.0,\n",
              " 60.0,\n",
              " 55.0,\n",
              " 45.0,\n",
              " 45.0,\n",
              " 42.0,\n",
              " 64.0,\n",
              " 75.0,\n",
              " 60.0,\n",
              " 85.0,\n",
              " 54.0,\n",
              " 80.0,\n",
              " 70.0,\n",
              " 55.0,\n",
              " 75.0,\n",
              " 60.0,\n",
              " 70.0,\n",
              " 42.0,\n",
              " 60.0,\n",
              " 58.0,\n",
              " 55.0,\n",
              " 90.0,\n",
              " 40.0,\n",
              " 75.0,\n",
              " 60.0,\n",
              " 75.0,\n",
              " 59.0,\n",
              " 65.0,\n",
              " 65.0,\n",
              " 61.0,\n",
              " 60.0,\n",
              " 95.0,\n",
              " 45.0,\n",
              " 70.0,\n",
              " 65.0,\n",
              " 63.0,\n",
              " 79.0,\n",
              " 46.0,\n",
              " 45.0,\n",
              " 60.0,\n",
              " 72.0,\n",
              " 63.0,\n",
              " 60.0,\n",
              " 82.0,\n",
              " 65.0,\n",
              " 60.0,\n",
              " 60.0,\n",
              " 50.0,\n",
              " 42.0,\n",
              " 50.0,\n",
              " 70.0,\n",
              " 70.0,\n",
              " 63.0,\n",
              " 53.0,\n",
              " 70.0,\n",
              " 61.0]"
            ]
          },
          "metadata": {
            "tags": []
          },
          "execution_count": 7
        }
      ]
    },
    {
      "cell_type": "markdown",
      "metadata": {
        "id": "HEtsQ4dm_tnc"
      },
      "source": [
        "# Amostra Estratificada\n",
        "* Essa técnica de amostragem leva em consideração as caracterı́sticas da população"
      ]
    },
    {
      "cell_type": "code",
      "metadata": {
        "id": "FX9oI1-8AAtp"
      },
      "source": [
        "#Criando lista dos dos pacientes variando por faixa de idades \n",
        "#(variação na base de dados entre 40 e 95)\n",
        "ageRange01 = []\n",
        "ageRange02 = []\n",
        "ageRange03 = []\n",
        "\n",
        "for i in pacientSelected:\n",
        "  if i >= 40 and i <= 60:\n",
        "    ageRange01.append(i)\n",
        "  elif i > 60 and i <= 80:\n",
        "    ageRange02.append(i)\n",
        "  else: \n",
        "    ageRange03.append(i)"
      ],
      "execution_count": null,
      "outputs": []
    },
    {
      "cell_type": "code",
      "metadata": {
        "id": "IxoQhqMLL6lS",
        "outputId": "aa897cdc-6208-4533-a16d-468ac265bd57",
        "colab": {
          "base_uri": "https://localhost:8080/",
          "height": 34
        }
      },
      "source": [
        "pacientSelecteds = []\n",
        "pacientSelecteds.append(random.sample(list(ageRange01),3))\n",
        "pacientSelecteds.append(random.sample(list(ageRange02),3))\n",
        "pacientSelecteds.append(random.sample(list(ageRange03),3))\n",
        "pacientSelecteds"
      ],
      "execution_count": null,
      "outputs": [
        {
          "output_type": "execute_result",
          "data": {
            "text/plain": [
              "[[60.0, 59.0, 49.0], [72.0, 70.0, 63.0], [86.0, 95.0, 85.0]]"
            ]
          },
          "metadata": {
            "tags": []
          },
          "execution_count": 9
        }
      ]
    },
    {
      "cell_type": "markdown",
      "metadata": {
        "id": "rPAiOBZDN3CY"
      },
      "source": [
        "# Amostra sistemática \n",
        "* Uma amostra sistemática é aquela na qual é atribuı́do um número a cada membro da população"
      ]
    },
    {
      "cell_type": "code",
      "metadata": {
        "id": "5hpwgtt_PoQU",
        "outputId": "a2d5d794-c6aa-453f-e5b8-ed3fe4ed4424",
        "colab": {
          "base_uri": "https://localhost:8080/",
          "height": 272
        }
      },
      "source": [
        "pacients =[pacientSelected[i] for i in range(0,100,7)]\n",
        "pacients"
      ],
      "execution_count": null,
      "outputs": [
        {
          "output_type": "execute_result",
          "data": {
            "text/plain": [
              "[42.0,\n",
              " 50.0,\n",
              " 70.0,\n",
              " 86.0,\n",
              " 62.0,\n",
              " 60.0,\n",
              " 60.0,\n",
              " 42.0,\n",
              " 70.0,\n",
              " 58.0,\n",
              " 59.0,\n",
              " 70.0,\n",
              " 72.0,\n",
              " 50.0,\n",
              " 70.0]"
            ]
          },
          "metadata": {
            "tags": []
          },
          "execution_count": 10
        }
      ]
    },
    {
      "cell_type": "markdown",
      "metadata": {
        "id": "0-MC7d-D2Evx"
      },
      "source": [
        "# Distribuição de Bernoulli\n",
        "* Existem muitos experimentos que adimitem apenas dois resultados: sucesso ou fracasso\n",
        "* Experimentos de probabilidade como esses são chamados de ensaios de Bernoulli"
      ]
    },
    {
      "cell_type": "code",
      "metadata": {
        "id": "w_xpBmrgYMCW"
      },
      "source": [
        "smokings = []\n",
        "noSmokings = []\n",
        "\n",
        "population = list(df.smoking)\n",
        "\n",
        "for i in population:\n",
        "  if i == 0:\n",
        "    noSmokings.append(i)\n",
        "  else:\n",
        "    smokings.append(i)"
      ],
      "execution_count": null,
      "outputs": []
    },
    {
      "cell_type": "markdown",
      "metadata": {
        "id": "sjFlgC-pgmcw"
      },
      "source": [
        "Separando uma amostra que contem pessoas fumantes e não fumantes para fazer a análise"
      ]
    },
    {
      "cell_type": "code",
      "metadata": {
        "id": "kbKH6egS2Qxs",
        "outputId": "445d5290-2a69-43c8-832e-b5009092d888",
        "colab": {
          "base_uri": "https://localhost:8080/",
          "height": 34
        }
      },
      "source": [
        "#Calculando p\n",
        "p = len(smokings) / len(population)\n",
        "p"
      ],
      "execution_count": null,
      "outputs": [
        {
          "output_type": "execute_result",
          "data": {
            "text/plain": [
              "0.3210702341137124"
            ]
          },
          "metadata": {
            "tags": []
          },
          "execution_count": 22
        }
      ]
    },
    {
      "cell_type": "code",
      "metadata": {
        "id": "_x9RtyvWadHa",
        "outputId": "234940cc-0fd1-4c65-c768-cb5257e65495",
        "colab": {
          "base_uri": "https://localhost:8080/",
          "height": 34
        }
      },
      "source": [
        "#Calculando q\n",
        "q = len(noSmokings) / len(population)\n",
        "q"
      ],
      "execution_count": null,
      "outputs": [
        {
          "output_type": "execute_result",
          "data": {
            "text/plain": [
              "0.6789297658862876"
            ]
          },
          "metadata": {
            "tags": []
          },
          "execution_count": 35
        }
      ]
    },
    {
      "cell_type": "code",
      "metadata": {
        "id": "yb2wPgCPbHAV",
        "outputId": "f172468f-993f-4d4a-b97a-20246607bfdd",
        "colab": {
          "base_uri": "https://localhost:8080/",
          "height": 34
        }
      },
      "source": [
        "#Média para essa distribuição de probabilidade é dada por\n",
        "#E(X) = p\n",
        "p = len(smokings) / len(population)\n",
        "p"
      ],
      "execution_count": null,
      "outputs": [
        {
          "output_type": "execute_result",
          "data": {
            "text/plain": [
              "0.3210702341137124"
            ]
          },
          "metadata": {
            "tags": []
          },
          "execution_count": 36
        }
      ]
    },
    {
      "cell_type": "code",
      "metadata": {
        "id": "Djrpn2yybyCX",
        "outputId": "35b13140-2fb6-4cbb-9233-aaccd068f65c",
        "colab": {
          "base_uri": "https://localhost:8080/",
          "height": 34
        }
      },
      "source": [
        "#Variâncai para essa distribuição de probabilidade é dada por:\n",
        "#VAR(X) = p.q\n",
        "var = p * q\n",
        "var"
      ],
      "execution_count": null,
      "outputs": [
        {
          "output_type": "execute_result",
          "data": {
            "text/plain": [
              "0.2179841388798783"
            ]
          },
          "metadata": {
            "tags": []
          },
          "execution_count": 37
        }
      ]
    },
    {
      "cell_type": "markdown",
      "metadata": {
        "id": "bsMtR9_beTQr"
      },
      "source": [
        "# Distribuição Binomial\n",
        "* Estudo de ensaios de Bernoulli repetidas vezes"
      ]
    },
    {
      "cell_type": "code",
      "metadata": {
        "id": "i72vEqK2eebN"
      },
      "source": [
        "from math import factorial"
      ],
      "execution_count": null,
      "outputs": []
    },
    {
      "cell_type": "code",
      "metadata": {
        "id": "BtJCGv64fGhD"
      },
      "source": [
        "def probBinomial(x,n,p,q):\n",
        "  return (factorial(n)/(factorial(n-x)*factorial(x)))*(p**x)*(q**(n-x))"
      ],
      "execution_count": null,
      "outputs": []
    },
    {
      "cell_type": "code",
      "metadata": {
        "id": "HcnNX2GNfDqz",
        "outputId": "522a7ed6-b5c3-4b69-b8ce-6da1fd22f0a5",
        "colab": {
          "base_uri": "https://localhost:8080/",
          "height": 153
        }
      },
      "source": [
        "\n",
        "n = 7\n",
        "probs = []\n",
        "\n",
        "for x in range(8):\n",
        "  px = probBinomial(x,n,p,q)\n",
        "  print('P(',x,')=',px)\n",
        "  probs.append(px)"
      ],
      "execution_count": null,
      "outputs": [
        {
          "output_type": "stream",
          "text": [
            "P( 0 )= 0.06649269676445063\n",
            "P( 1 )= 0.2201137548064573\n",
            "P( 2 )= 0.3122796127303434\n",
            "P( 3 )= 0.24613171446726564\n",
            "P( 4 )= 0.11639726398451972\n",
            "P( 5 )= 0.03302700692368639\n",
            "P( 6 )= 0.005206227692403767\n",
            "P( 7 )= 0.00035172263087316085\n"
          ],
          "name": "stdout"
        }
      ]
    },
    {
      "cell_type": "code",
      "metadata": {
        "id": "jvjURQH6gHbI",
        "outputId": "bdea3d73-0756-4a3c-a43a-5f0a5d2edaf1",
        "colab": {
          "base_uri": "https://localhost:8080/",
          "height": 34
        }
      },
      "source": [
        "np.sum(probs)"
      ],
      "execution_count": null,
      "outputs": [
        {
          "output_type": "execute_result",
          "data": {
            "text/plain": [
              "1.0"
            ]
          },
          "metadata": {
            "tags": []
          },
          "execution_count": 46
        }
      ]
    },
    {
      "cell_type": "code",
      "metadata": {
        "id": "MYnhHRzbhAUB",
        "outputId": "e4a7dcc1-5cb1-4dc0-a5f1-524c667db20a",
        "colab": {
          "base_uri": "https://localhost:8080/",
          "height": 295
        }
      },
      "source": [
        "#histograma de frequência\n",
        "import matplotlib.pyplot as plt\n",
        "\n",
        "x = [0,1,2,3,4,5,6,7]\n",
        "plt.bar(x,probs)\n",
        "plt.xlabel('x')\n",
        "plt.ylabel('P(x)')\n",
        "plt.title('Distribuição de Probabilidade')\n",
        "plt.grid(True)\n",
        "plt.show()"
      ],
      "execution_count": null,
      "outputs": [
        {
          "output_type": "display_data",
          "data": {
            "image/png": "[encoded data removed]",
            "text/plain": [
              "<Figure size 432x288 with 1 Axes>"
            ]
          },
          "metadata": {
            "tags": [],
            "needs_background": "light"
          }
        }
      ]
    },
    {
      "cell_type": "markdown",
      "metadata": {
        "id": "KTIS8YxTkb1V"
      },
      "source": [
        "dentre o pacientes selecionados, podemos ver que para valores de x entre 1 e 3 a porcentagem desse paciente ser um fumante fica a cima dos vinte por cento"
      ]
    },
    {
      "cell_type": "markdown",
      "metadata": {
        "id": "LCZxl9YllkOi"
      },
      "source": [
        "Jà selecionando 7 pacientes e verificando a probabilidade de haver pelo menos 4 pacientes fumantes temos:"
      ]
    },
    {
      "cell_type": "code",
      "metadata": {
        "id": "grplnfT5llPW",
        "outputId": "f27df007-57dd-439f-e650-376bd52896d5",
        "colab": {
          "base_uri": "https://localhost:8080/",
          "height": 34
        }
      },
      "source": [
        "p4 = probBinomial(4,n,p,q)\n",
        "p4"
      ],
      "execution_count": null,
      "outputs": [
        {
          "output_type": "execute_result",
          "data": {
            "text/plain": [
              "0.11639726398451972"
            ]
          },
          "metadata": {
            "tags": []
          },
          "execution_count": 53
        }
      ]
    },
    {
      "cell_type": "code",
      "metadata": {
        "id": "3oBI-ZIlmAah",
        "outputId": "8842b4de-e2a5-4cf1-c746-6033baa0ccb4",
        "colab": {
          "base_uri": "https://localhost:8080/",
          "height": 34
        }
      },
      "source": [
        "p5 = probBinomial(5,n,p,q)\n",
        "p5"
      ],
      "execution_count": null,
      "outputs": [
        {
          "output_type": "execute_result",
          "data": {
            "text/plain": [
              "0.03302700692368639"
            ]
          },
          "metadata": {
            "tags": []
          },
          "execution_count": 54
        }
      ]
    },
    {
      "cell_type": "code",
      "metadata": {
        "id": "8cMaRtQHmHBS",
        "outputId": "72d2232f-c7a9-4f3f-8c5d-02ec0deabdd9",
        "colab": {
          "base_uri": "https://localhost:8080/",
          "height": 34
        }
      },
      "source": [
        "p6 = probBinomial(6,n,p,q)\n",
        "p6"
      ],
      "execution_count": null,
      "outputs": [
        {
          "output_type": "execute_result",
          "data": {
            "text/plain": [
              "0.005206227692403767"
            ]
          },
          "metadata": {
            "tags": []
          },
          "execution_count": 55
        }
      ]
    },
    {
      "cell_type": "code",
      "metadata": {
        "id": "ZDHmGkrbmKOx",
        "outputId": "fedb1e69-19fd-4343-bb33-6b51e23ec3b4",
        "colab": {
          "base_uri": "https://localhost:8080/",
          "height": 34
        }
      },
      "source": [
        "p7 = probBinomial(7,n,p,q)\n",
        "p7"
      ],
      "execution_count": null,
      "outputs": [
        {
          "output_type": "execute_result",
          "data": {
            "text/plain": [
              "0.00035172263087316085"
            ]
          },
          "metadata": {
            "tags": []
          },
          "execution_count": 56
        }
      ]
    },
    {
      "cell_type": "code",
      "metadata": {
        "id": "q4wE8NBkmP26",
        "outputId": "972b1739-0138-4574-d5fc-67c787ad4ef1",
        "colab": {
          "base_uri": "https://localhost:8080/",
          "height": 34
        }
      },
      "source": [
        "p4 + p5 + p6 + p7"
      ],
      "execution_count": null,
      "outputs": [
        {
          "output_type": "execute_result",
          "data": {
            "text/plain": [
              "0.154982221231483"
            ]
          },
          "metadata": {
            "tags": []
          },
          "execution_count": 57
        }
      ]
    },
    {
      "cell_type": "markdown",
      "metadata": {
        "id": "MSVvJuKFma4l"
      },
      "source": [
        "Temos uma probabilidade de quinze por cento desse paciente ser fumanate"
      ]
    }
  ]
}