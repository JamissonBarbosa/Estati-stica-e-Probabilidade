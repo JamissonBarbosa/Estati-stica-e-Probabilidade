{
  "nbformat": 4,
  "nbformat_minor": 0,
  "metadata": {
    "colab": {
      "name": "AtividadeSemana07.ipynb",
      "provenance": [],
      "collapsed_sections": []
    },
    "kernelspec": {
      "name": "python3",
      "display_name": "Python 3"
    }
  },
  "cells": [
    {
      "cell_type": "markdown",
      "metadata": {
        "id": "yfs2143a4kRk"
      },
      "source": [
        "**Registro Clínicos de insuficiência cardiáca**\n",
        "\n",
        "\n",
        "\n",
        "*  data set contém um conjunto de dados de 100 pacientes, afim de prever o cancer de prostata\n",
        "\n",
        "\n",
        "link dataset: https://www.kaggle.com/sajidsaifi/prostate-cancer\n",
        "\n",
        "\n",
        "\n"
      ]
    },
    {
      "cell_type": "markdown",
      "metadata": {
        "id": "dUZyhIKRXA-u"
      },
      "source": [
        "importndo algumas das principais biblioteca como pandas e matplot"
      ]
    },
    {
      "cell_type": "code",
      "metadata": {
        "id": "xVd9wos5PsDx"
      },
      "source": [
        "import pandas as pd\n",
        "import matplotlib.pyplot as plt\n",
        "import numpy as np\n",
        "from scipy.stats import  norm\n",
        "import seaborn as sns"
      ],
      "execution_count": null,
      "outputs": []
    },
    {
      "cell_type": "markdown",
      "metadata": {
        "id": "IVw-rx7GXHmG"
      },
      "source": [
        "Atribuir a uma variável o dataset escolhido"
      ]
    },
    {
      "cell_type": "code",
      "metadata": {
        "id": "TU0PB_mhXMbu"
      },
      "source": [
        "df = pd.read_csv('/content/drive/My Drive/Prostate_Cancer.csv')"
      ],
      "execution_count": 17,
      "outputs": []
    },
    {
      "cell_type": "markdown",
      "metadata": {
        "id": "eeOwXVwQXRJO"
      },
      "source": [
        "Com o método head() é possível ver as promeiras linha dos dataframe, por padrão ele exibe as primeiras 5 linhas"
      ]
    },
    {
      "cell_type": "code",
      "metadata": {
        "id": "PuNWaeaVXSju",
        "colab": {
          "base_uri": "https://localhost:8080/",
          "height": 224
        },
        "outputId": "0da88442-171e-4486-bfcc-3cda6995612b"
      },
      "source": [
        "df.head()"
      ],
      "execution_count": 19,
      "outputs": [
        {
          "output_type": "execute_result",
          "data": {
            "text/html": [
              "<div>\n",
              "<style scoped>\n",
              "    .dataframe tbody tr th:only-of-type {\n",
              "        vertical-align: middle;\n",
              "    }\n",
              "\n",
              "    .dataframe tbody tr th {\n",
              "        vertical-align: top;\n",
              "    }\n",
              "\n",
              "    .dataframe thead th {\n",
              "        text-align: right;\n",
              "    }\n",
              "</style>\n",
              "<table border=\"1\" class=\"dataframe\">\n",
              "  <thead>\n",
              "    <tr style=\"text-align: right;\">\n",
              "      <th></th>\n",
              "      <th>id</th>\n",
              "      <th>diagnosis_result</th>\n",
              "      <th>radius</th>\n",
              "      <th>texture</th>\n",
              "      <th>perimeter</th>\n",
              "      <th>area</th>\n",
              "      <th>smoothness</th>\n",
              "      <th>compactness</th>\n",
              "      <th>symmetry</th>\n",
              "      <th>fractal_dimension</th>\n",
              "    </tr>\n",
              "  </thead>\n",
              "  <tbody>\n",
              "    <tr>\n",
              "      <th>0</th>\n",
              "      <td>1</td>\n",
              "      <td>M</td>\n",
              "      <td>23</td>\n",
              "      <td>12</td>\n",
              "      <td>151</td>\n",
              "      <td>954</td>\n",
              "      <td>0.143</td>\n",
              "      <td>0.278</td>\n",
              "      <td>0.242</td>\n",
              "      <td>0.079</td>\n",
              "    </tr>\n",
              "    <tr>\n",
              "      <th>1</th>\n",
              "      <td>2</td>\n",
              "      <td>B</td>\n",
              "      <td>9</td>\n",
              "      <td>13</td>\n",
              "      <td>133</td>\n",
              "      <td>1326</td>\n",
              "      <td>0.143</td>\n",
              "      <td>0.079</td>\n",
              "      <td>0.181</td>\n",
              "      <td>0.057</td>\n",
              "    </tr>\n",
              "    <tr>\n",
              "      <th>2</th>\n",
              "      <td>3</td>\n",
              "      <td>M</td>\n",
              "      <td>21</td>\n",
              "      <td>27</td>\n",
              "      <td>130</td>\n",
              "      <td>1203</td>\n",
              "      <td>0.125</td>\n",
              "      <td>0.160</td>\n",
              "      <td>0.207</td>\n",
              "      <td>0.060</td>\n",
              "    </tr>\n",
              "    <tr>\n",
              "      <th>3</th>\n",
              "      <td>4</td>\n",
              "      <td>M</td>\n",
              "      <td>14</td>\n",
              "      <td>16</td>\n",
              "      <td>78</td>\n",
              "      <td>386</td>\n",
              "      <td>0.070</td>\n",
              "      <td>0.284</td>\n",
              "      <td>0.260</td>\n",
              "      <td>0.097</td>\n",
              "    </tr>\n",
              "    <tr>\n",
              "      <th>4</th>\n",
              "      <td>5</td>\n",
              "      <td>M</td>\n",
              "      <td>9</td>\n",
              "      <td>19</td>\n",
              "      <td>135</td>\n",
              "      <td>1297</td>\n",
              "      <td>0.141</td>\n",
              "      <td>0.133</td>\n",
              "      <td>0.181</td>\n",
              "      <td>0.059</td>\n",
              "    </tr>\n",
              "  </tbody>\n",
              "</table>\n",
              "</div>"
            ],
            "text/plain": [
              "   id diagnosis_result  radius  ...  compactness  symmetry  fractal_dimension\n",
              "0   1                M      23  ...        0.278     0.242              0.079\n",
              "1   2                B       9  ...        0.079     0.181              0.057\n",
              "2   3                M      21  ...        0.160     0.207              0.060\n",
              "3   4                M      14  ...        0.284     0.260              0.097\n",
              "4   5                M       9  ...        0.133     0.181              0.059\n",
              "\n",
              "[5 rows x 10 columns]"
            ]
          },
          "metadata": {
            "tags": []
          },
          "execution_count": 19
        }
      ]
    },
    {
      "cell_type": "markdown",
      "metadata": {
        "id": "AAp3a3KmXasO"
      },
      "source": [
        "Podemos usar o describe() e info() para retornar um resumo estatístico das variáveis númericas e obter um resumo de valores não-nulos encontrados respectivamente."
      ]
    },
    {
      "cell_type": "code",
      "metadata": {
        "id": "Ge_GWMZeXbzd",
        "colab": {
          "base_uri": "https://localhost:8080/"
        },
        "outputId": "33dd26d8-fb98-4ef9-cfb9-d2c969e81283"
      },
      "source": [
        "df.describe()\n",
        "df.info()"
      ],
      "execution_count": 20,
      "outputs": [
        {
          "output_type": "stream",
          "text": [
            "<class 'pandas.core.frame.DataFrame'>\n",
            "RangeIndex: 100 entries, 0 to 99\n",
            "Data columns (total 10 columns):\n",
            " #   Column             Non-Null Count  Dtype  \n",
            "---  ------             --------------  -----  \n",
            " 0   id                 100 non-null    int64  \n",
            " 1   diagnosis_result   100 non-null    object \n",
            " 2   radius             100 non-null    int64  \n",
            " 3   texture            100 non-null    int64  \n",
            " 4   perimeter          100 non-null    int64  \n",
            " 5   area               100 non-null    int64  \n",
            " 6   smoothness         100 non-null    float64\n",
            " 7   compactness        100 non-null    float64\n",
            " 8   symmetry           100 non-null    float64\n",
            " 9   fractal_dimension  100 non-null    float64\n",
            "dtypes: float64(4), int64(5), object(1)\n",
            "memory usage: 7.9+ KB\n"
          ],
          "name": "stdout"
        }
      ]
    },
    {
      "cell_type": "code",
      "metadata": {
        "id": "pzNSH5i2kcL4"
      },
      "source": [
        "#separando nódulos malignos e benignos para fazer a comparação\n",
        "benignos = df[df.diagnosis_result == 'B'].reset_index(drop=True)\n",
        "malignos = df[df.diagnosis_result == 'M'].reset_index(drop=True)"
      ],
      "execution_count": 21,
      "outputs": []
    },
    {
      "cell_type": "markdown",
      "metadata": {
        "id": "9DOmuffhk3gg"
      },
      "source": [
        "* Testando o atributo de raio\n",
        "\n",
        "\n"
      ]
    },
    {
      "cell_type": "code",
      "metadata": {
        "colab": {
          "base_uri": "https://localhost:8080/",
          "height": 383
        },
        "id": "clggoZ3gk3-L",
        "outputId": "b909d0e0-0bf8-4b06-f909-c930421c2f03"
      },
      "source": [
        "# distribuição de probabilidade comparando o raio media para as duas classes\n",
        "sns.distplot(benignos.radius, hist=False, rug=False,label='benigno')\n",
        "sns.distplot(malignos.radius, hist=False, rug=False,label='maligno')\n",
        "plt.xlabel('Textura Média')\n",
        "plt.ylabel('Probabilidades')\n",
        "plt.title('Textura dos nódulos')\n",
        "plt.legend()\n",
        "plt.show()"
      ],
      "execution_count": 23,
      "outputs": [
        {
          "output_type": "stream",
          "text": [
            "/usr/local/lib/python3.6/dist-packages/seaborn/distributions.py:2551: FutureWarning: `distplot` is a deprecated function and will be removed in a future version. Please adapt your code to use either `displot` (a figure-level function with similar flexibility) or `kdeplot` (an axes-level function for kernel density plots).\n",
            "  warnings.warn(msg, FutureWarning)\n",
            "/usr/local/lib/python3.6/dist-packages/seaborn/distributions.py:2551: FutureWarning: `distplot` is a deprecated function and will be removed in a future version. Please adapt your code to use either `displot` (a figure-level function with similar flexibility) or `kdeplot` (an axes-level function for kernel density plots).\n",
            "  warnings.warn(msg, FutureWarning)\n"
          ],
          "name": "stderr"
        },
        {
          "output_type": "display_data",
          "data": {
            "image/png": "[encoded data removed]",
            "text/plain": [
              "<Figure size 432x288 with 1 Axes>"
            ]
          },
          "metadata": {
            "tags": [],
            "needs_background": "light"
          }
        }
      ]
    },
    {
      "cell_type": "markdown",
      "metadata": {
        "id": "Uogu3WkrsRo8"
      },
      "source": [
        "Média e desvio diferentes porém próximos entre os atributos\n"
      ]
    },
    {
      "cell_type": "code",
      "metadata": {
        "colab": {
          "base_uri": "https://localhost:8080/"
        },
        "id": "rmItrwoDleja",
        "outputId": "f02479d7-401a-455a-bbf1-aac54d7a27d2"
      },
      "source": [
        "#calculando estatísticas das amostras\n",
        "x1 = benignos.radius.mean()\n",
        "s1 = benignos.radius.std()\n",
        "\n",
        "x2 = malignos.radius.mean()\n",
        "s2 = malignos.radius.std()\n",
        "\n",
        "print(x1,s1)\n",
        "print(x2,s2)"
      ],
      "execution_count": 24,
      "outputs": [
        {
          "output_type": "stream",
          "text": [
            "17.94736842105263 5.061499448919091\n",
            "16.177419354838708 4.678251717547273\n"
          ],
          "name": "stdout"
        }
      ]
    },
    {
      "cell_type": "code",
      "metadata": {
        "colab": {
          "base_uri": "https://localhost:8080/"
        },
        "id": "F7Dxgz9aobUf",
        "outputId": "0d35a42f-f4c9-4f8f-e882-63487c776eae"
      },
      "source": [
        "n1 = benignos.shape[0]\n",
        "n2 = malignos.shape[0]\n",
        "print('quantidade de nódulos benignos:',n1)\n",
        "print('quantidade de nódulos malignos:',n2)"
      ],
      "execution_count": 25,
      "outputs": [
        {
          "output_type": "stream",
          "text": [
            "quantidade de nódulos benignos: 38\n",
            "quantidade de nódulos malignos: 62\n"
          ],
          "name": "stdout"
        }
      ]
    },
    {
      "cell_type": "markdown",
      "metadata": {
        "id": "O2gZdLYwo1nl"
      },
      "source": [
        "* Teste a hipótese de que as duas distribuições tem a mesma média, ao nível de 5%\n",
        "1. Formule as hipóteses\n",
        "  * $H_0: \\mu_1 - \\mu_2 = 0$\n",
        "  * $H_a: \\mu_1 - \\mu_2 \\neq 0$\n",
        "2. Especifique o nível de significância\n",
        "  * $\\alpha = 0.05$"
      ]
    },
    {
      "cell_type": "code",
      "metadata": {
        "id": "wSZ0hiKzoofe"
      },
      "source": [
        "alpha = 0.05"
      ],
      "execution_count": 26,
      "outputs": []
    },
    {
      "cell_type": "markdown",
      "metadata": {
        "id": "p0y76_lxoukX"
      },
      "source": [
        "Encontre as regiões de não-rejeição e críticas"
      ]
    },
    {
      "cell_type": "code",
      "metadata": {
        "colab": {
          "base_uri": "https://localhost:8080/"
        },
        "id": "zu407CvkowLF",
        "outputId": "a0e0aade-d67d-41da-f487-a70c6ad42aba"
      },
      "source": [
        "#calcula z critico\n",
        "zc = norm.ppf(1-alpha/2)\n",
        "zc"
      ],
      "execution_count": 27,
      "outputs": [
        {
          "output_type": "execute_result",
          "data": {
            "text/plain": [
              "1.959963984540054"
            ]
          },
          "metadata": {
            "tags": []
          },
          "execution_count": 27
        }
      ]
    },
    {
      "cell_type": "code",
      "metadata": {
        "colab": {
          "base_uri": "https://localhost:8080/"
        },
        "id": "TBdNRIz1o9L1",
        "outputId": "04ca4669-2019-408e-c07a-8d65e8a2f8f4"
      },
      "source": [
        "#importando biblioteca math\n",
        "from math import sqrt\n",
        "z_calc = (x1-x2)/(sqrt((s1**2)/n1 + (s2**2)/n2))\n",
        "z_calc"
      ],
      "execution_count": 29,
      "outputs": [
        {
          "output_type": "execute_result",
          "data": {
            "text/plain": [
              "1.7463758231359516"
            ]
          },
          "metadata": {
            "tags": []
          },
          "execution_count": 29
        }
      ]
    },
    {
      "cell_type": "code",
      "metadata": {
        "colab": {
          "base_uri": "https://localhost:8080/"
        },
        "id": "W3_3PunDpR_B",
        "outputId": "65529781-7dca-42aa-a8f7-6a0d6998c0c0"
      },
      "source": [
        "#toma decisao\n",
        "if z_calc< -zc or z_calc> zc:\n",
        "  print('Rejeita H0')\n",
        "else:\n",
        "  print('Falha em rejeitar H0')"
      ],
      "execution_count": 30,
      "outputs": [
        {
          "output_type": "stream",
          "text": [
            "Falha em rejeitar H0\n"
          ],
          "name": "stdout"
        }
      ]
    },
    {
      "cell_type": "markdown",
      "metadata": {
        "id": "8u6MmoXCs2Vv"
      },
      "source": [
        "Falhou-se em rejeitar H0, ou seja a o resultado está na região de não rejeição, e H0 é relevante"
      ]
    },
    {
      "cell_type": "markdown",
      "metadata": {
        "id": "O7tROp9Opu18"
      },
      "source": [
        "Testando atributo smoothness\n"
      ]
    },
    {
      "cell_type": "code",
      "metadata": {
        "colab": {
          "base_uri": "https://localhost:8080/",
          "height": 383
        },
        "id": "x8bU8Pbbpthr",
        "outputId": "21ad1131-2776-483b-f278-3e7ba2954cf5"
      },
      "source": [
        "# distribuição de probabilidade comparando a suavidade media para as duas classes\n",
        "sns.distplot(benignos.smoothness, hist=False, rug=False,label='benigno')\n",
        "sns.distplot(malignos.smoothness, hist=False, rug=False,label='maligno')\n",
        "plt.xlabel('Dimensão Fractal média')\n",
        "plt.ylabel('Probabilidades')\n",
        "plt.title('Dimensão Fractal dos nódulos')\n",
        "plt.legend()\n",
        "plt.show()"
      ],
      "execution_count": 31,
      "outputs": [
        {
          "output_type": "stream",
          "text": [
            "/usr/local/lib/python3.6/dist-packages/seaborn/distributions.py:2551: FutureWarning: `distplot` is a deprecated function and will be removed in a future version. Please adapt your code to use either `displot` (a figure-level function with similar flexibility) or `kdeplot` (an axes-level function for kernel density plots).\n",
            "  warnings.warn(msg, FutureWarning)\n",
            "/usr/local/lib/python3.6/dist-packages/seaborn/distributions.py:2551: FutureWarning: `distplot` is a deprecated function and will be removed in a future version. Please adapt your code to use either `displot` (a figure-level function with similar flexibility) or `kdeplot` (an axes-level function for kernel density plots).\n",
            "  warnings.warn(msg, FutureWarning)\n"
          ],
          "name": "stderr"
        },
        {
          "output_type": "display_data",
          "data": {
            "image/png": "[encoded data removed]",
            "text/plain": [
              "<Figure size 432x288 with 1 Axes>"
            ]
          },
          "metadata": {
            "tags": [],
            "needs_background": "light"
          }
        }
      ]
    },
    {
      "cell_type": "code",
      "metadata": {
        "colab": {
          "base_uri": "https://localhost:8080/"
        },
        "id": "IwG485GDpd7Y",
        "outputId": "adb05a15-3971-4ca8-8efc-94154429d89d"
      },
      "source": [
        "#calculando estatísticas das amostras\n",
        "x1 = benignos.smoothness.mean()\n",
        "s1 = benignos.smoothness.std()\n",
        "\n",
        "x2 = malignos.smoothness.mean()\n",
        "s2 = malignos.smoothness.std()\n",
        "\n",
        "print(x1,s1)\n",
        "print(x2,s2)"
      ],
      "execution_count": 32,
      "outputs": [
        {
          "output_type": "stream",
          "text": [
            "0.09905263157894735 0.015194144263980502\n",
            "0.10498387096774195 0.013939555624175082\n"
          ],
          "name": "stdout"
        }
      ]
    },
    {
      "cell_type": "code",
      "metadata": {
        "id": "UlY44eJYpf2e"
      },
      "source": [
        "#estabelecendo nível de confiança do teste\n",
        "alpha = 0.05"
      ],
      "execution_count": 33,
      "outputs": []
    },
    {
      "cell_type": "code",
      "metadata": {
        "colab": {
          "base_uri": "https://localhost:8080/"
        },
        "id": "PteJTKOCphwu",
        "outputId": "a103a0a3-9117-48fa-868f-7a1386de205d"
      },
      "source": [
        "#calcula z critico\n",
        "zc = norm.ppf(1-alpha/2)\n",
        "zc"
      ],
      "execution_count": 34,
      "outputs": [
        {
          "output_type": "execute_result",
          "data": {
            "text/plain": [
              "1.959963984540054"
            ]
          },
          "metadata": {
            "tags": []
          },
          "execution_count": 34
        }
      ]
    },
    {
      "cell_type": "code",
      "metadata": {
        "colab": {
          "base_uri": "https://localhost:8080/"
        },
        "id": "PATvwCB7pj5O",
        "outputId": "9b5ee727-3801-4f56-c782-af97b64b6634"
      },
      "source": [
        "#calcule a estatística do teste\n",
        "z_calc = (x1-x2)/(sqrt((s1**2)/n1 + (s2**2)/n2))\n",
        "z_calc"
      ],
      "execution_count": 35,
      "outputs": [
        {
          "output_type": "execute_result",
          "data": {
            "text/plain": [
              "-1.9544768765001606"
            ]
          },
          "metadata": {
            "tags": []
          },
          "execution_count": 35
        }
      ]
    },
    {
      "cell_type": "markdown",
      "metadata": {
        "id": "a5GwAM7wtSDA"
      },
      "source": [
        ""
      ]
    },
    {
      "cell_type": "code",
      "metadata": {
        "colab": {
          "base_uri": "https://localhost:8080/"
        },
        "id": "Qdp_KwFxpmV2",
        "outputId": "0fd3225c-eec9-45db-d441-cc618bfac8cf"
      },
      "source": [
        "#toma decisao\n",
        "if z_calc< -zc or z_calc> zc:\n",
        "  print('Rejeita H0')\n",
        "else:\n",
        "  print('Falha em rejeitar H0')"
      ],
      "execution_count": 36,
      "outputs": [
        {
          "output_type": "stream",
          "text": [
            "Falha em rejeitar H0\n"
          ],
          "name": "stdout"
        }
      ]
    },
    {
      "cell_type": "markdown",
      "metadata": {
        "id": "bbGZXTrGtRcQ"
      },
      "source": [
        "Falhou-se em rejeitar H0, ou seja a o resultado está na região de não rejeição, e H0 é relevante"
      ]
    },
    {
      "cell_type": "markdown",
      "metadata": {
        "id": "9GLBLR6YqaRc"
      },
      "source": [
        "* Testando simetria* média utilizando amostras pequenas"
      ]
    },
    {
      "cell_type": "code",
      "metadata": {
        "id": "gE5yaiqvqdyt"
      },
      "source": [
        "from scipy.stats import t\n",
        "benignos = benignos[:15]\n",
        "malignos = malignos[:15]"
      ],
      "execution_count": 41,
      "outputs": []
    },
    {
      "cell_type": "code",
      "metadata": {
        "colab": {
          "base_uri": "https://localhost:8080/",
          "height": 383
        },
        "id": "tqtRbfnYqfmR",
        "outputId": "959928c0-41ad-4bb6-c6a6-ecfb0ef18dcd"
      },
      "source": [
        "# distribuição de probabilidade comparando a simetria media para as duas classes\n",
        "sns.distplot(benignos.symmetry, hist=False, rug=False,label='benigno')\n",
        "sns.distplot(malignos.symmetry, hist=False, rug=False,label='maligno')\n",
        "plt.xlabel('Dimensão Fractal média')\n",
        "plt.ylabel('Probabilidades')\n",
        "plt.title('Dimensão Fractal dos nódulos')\n",
        "plt.legend()\n",
        "plt.show()"
      ],
      "execution_count": 42,
      "outputs": [
        {
          "output_type": "stream",
          "text": [
            "/usr/local/lib/python3.6/dist-packages/seaborn/distributions.py:2551: FutureWarning: `distplot` is a deprecated function and will be removed in a future version. Please adapt your code to use either `displot` (a figure-level function with similar flexibility) or `kdeplot` (an axes-level function for kernel density plots).\n",
            "  warnings.warn(msg, FutureWarning)\n",
            "/usr/local/lib/python3.6/dist-packages/seaborn/distributions.py:2551: FutureWarning: `distplot` is a deprecated function and will be removed in a future version. Please adapt your code to use either `displot` (a figure-level function with similar flexibility) or `kdeplot` (an axes-level function for kernel density plots).\n",
            "  warnings.warn(msg, FutureWarning)\n"
          ],
          "name": "stderr"
        },
        {
          "output_type": "display_data",
          "data": {
            "image/png": "[encoded data removed]",
            "text/plain": [
              "<Figure size 432x288 with 1 Axes>"
            ]
          },
          "metadata": {
            "tags": [],
            "needs_background": "light"
          }
        }
      ]
    },
    {
      "cell_type": "code",
      "metadata": {
        "colab": {
          "base_uri": "https://localhost:8080/"
        },
        "id": "yrr-oJdLqidJ",
        "outputId": "8a51fe31-37e9-4610-f0f8-3ade7a22ca54"
      },
      "source": [
        "#calculando estatísticas das amostras\n",
        "x1 = benignos.symmetry.mean()\n",
        "s1 = benignos.symmetry.std()\n",
        "\n",
        "x2 = malignos.symmetry.mean()\n",
        "s2 = malignos.symmetry.std()\n",
        "\n",
        "print(x1,s1)\n",
        "print(x2,s2)"
      ],
      "execution_count": 43,
      "outputs": [
        {
          "output_type": "stream",
          "text": [
            "0.1811333333333333 0.025581429276127707\n",
            "0.20406666666666667 0.03067913825076454\n"
          ],
          "name": "stdout"
        }
      ]
    },
    {
      "cell_type": "code",
      "metadata": {
        "id": "x4jzMN3lqk2Y"
      },
      "source": [
        "n1 = benignos.shape[0]\n",
        "n2 = malignos.shape[0]"
      ],
      "execution_count": 44,
      "outputs": []
    },
    {
      "cell_type": "markdown",
      "metadata": {
        "id": "SgLgal8uqnwC"
      },
      "source": [
        "Variâncias diferentes"
      ]
    },
    {
      "cell_type": "code",
      "metadata": {
        "id": "5CXvbJHAqoN_"
      },
      "source": [
        "phi = n1-1 if n1<n2 else n2-1"
      ],
      "execution_count": 45,
      "outputs": []
    },
    {
      "cell_type": "code",
      "metadata": {
        "colab": {
          "base_uri": "https://localhost:8080/"
        },
        "id": "ZXqtONzIqqzf",
        "outputId": "8bb57685-5f5b-4736-9506-90c1c7f4ec21"
      },
      "source": [
        "#recuperando t da tabela\n",
        "t_alpha_phi = t.ppf(1-alpha/2,phi)\n",
        "t_alpha_phi"
      ],
      "execution_count": 47,
      "outputs": [
        {
          "output_type": "execute_result",
          "data": {
            "text/plain": [
              "2.1447866879169273"
            ]
          },
          "metadata": {
            "tags": []
          },
          "execution_count": 47
        }
      ]
    },
    {
      "cell_type": "markdown",
      "metadata": {
        "id": "68N9nf9-q5lr"
      },
      "source": [
        " * estatística do teste para variâncias diferentes\n",
        "\n",
        "  $t_{calc} = \\dfrac{(\\overline{x_1} - \\overline{x_2})-(\\mu_1 - \\mu_2)}{\\sqrt{\\dfrac{s_1^2}{n_1}+\\dfrac{s_2^2}{n_2}}}$"
      ]
    },
    {
      "cell_type": "code",
      "metadata": {
        "colab": {
          "base_uri": "https://localhost:8080/"
        },
        "id": "ObzRW8Mfq6g3",
        "outputId": "bc3eb725-2169-4155-fe66-d62b78dd2a87"
      },
      "source": [
        "t_calc = (x1-x2)/(sqrt((s1**2)/n1 + (s2**2/n2)))\n",
        "t_calc"
      ],
      "execution_count": 48,
      "outputs": [
        {
          "output_type": "execute_result",
          "data": {
            "text/plain": [
              "-2.2235566934768936"
            ]
          },
          "metadata": {
            "tags": []
          },
          "execution_count": 48
        }
      ]
    },
    {
      "cell_type": "code",
      "metadata": {
        "colab": {
          "base_uri": "https://localhost:8080/"
        },
        "id": "FiTvCOrZq-Uy",
        "outputId": "d259b94f-a581-41da-e2ca-165539400fd2"
      },
      "source": [
        "#tomando decisão\n",
        "if t_calc < -abs(t_alpha_phi) or t_calc > abs(t_alpha_phi):\n",
        "  print('Rejeite H0')\n",
        "else:\n",
        "  print('Falha em reijeitar H0')"
      ],
      "execution_count": 49,
      "outputs": [
        {
          "output_type": "stream",
          "text": [
            "Rejeite H0\n"
          ],
          "name": "stdout"
        }
      ]
    },
    {
      "cell_type": "markdown",
      "metadata": {
        "id": "aLt6NDMStcTo"
      },
      "source": [
        "H0 foi rejeitado, ou seja a o resultado está na região crítica, com as medias bem diferentes"
      ]
    }
  ]
}