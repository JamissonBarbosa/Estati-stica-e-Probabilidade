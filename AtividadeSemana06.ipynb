{
  "nbformat": 4,
  "nbformat_minor": 0,
  "metadata": {
    "colab": {
      "name": "AtividadeSemana06.ipynb",
      "provenance": [],
      "collapsed_sections": []
    },
    "kernelspec": {
      "name": "python3",
      "display_name": "Python 3"
    }
  },
  "cells": [
    {
      "cell_type": "markdown",
      "metadata": {
        "id": "yfs2143a4kRk"
      },
      "source": [
        "**Registro Clínicos de insuficiência cardiáca**\n",
        "\n",
        "\n",
        "\n",
        "*  data set contém um conjunto de características \n",
        "\n",
        "  que podem ser usadas para prever a mortalidade por\n",
        "\n",
        "  insuficiência cardíaca.\n",
        "\n",
        "\n",
        "link dataset: https://www.kaggle.com/andrewmvd/heart-failure-clinical-data\n",
        "\n",
        "\n",
        "\n",
        "\n"
      ]
    },
    {
      "cell_type": "markdown",
      "metadata": {
        "id": "dUZyhIKRXA-u"
      },
      "source": [
        "importndo algumas das principais biblioteca como pandas e matplot"
      ]
    },
    {
      "cell_type": "code",
      "metadata": {
        "id": "xVd9wos5PsDx"
      },
      "source": [
        "import pandas as pd\n",
        "import matplotlib.pyplot as plt"
      ],
      "execution_count": null,
      "outputs": []
    },
    {
      "cell_type": "markdown",
      "metadata": {
        "id": "IVw-rx7GXHmG"
      },
      "source": [
        "Atribuir a uma variável o dataset escolhido"
      ]
    },
    {
      "cell_type": "code",
      "metadata": {
        "id": "TU0PB_mhXMbu"
      },
      "source": [
        "dataFrame = pd.read_csv('/content/drive/My Drive/heart_failure_clinical.csv')"
      ],
      "execution_count": null,
      "outputs": []
    },
    {
      "cell_type": "markdown",
      "metadata": {
        "id": "eeOwXVwQXRJO"
      },
      "source": [
        "Com o método head() é possível ver as promeiras linha dos dataframe, por padrão ele exibe as primeiras 5 linhas"
      ]
    },
    {
      "cell_type": "code",
      "metadata": {
        "id": "PuNWaeaVXSju",
        "colab": {
          "base_uri": "https://localhost:8080/",
          "height": 224
        },
        "outputId": "d3d06993-8cc1-4051-d99e-fb57d7b3d7b9"
      },
      "source": [
        "dataFrame.head()"
      ],
      "execution_count": null,
      "outputs": [
        {
          "output_type": "execute_result",
          "data": {
            "text/html": [
              "<div>\n",
              "<style scoped>\n",
              "    .dataframe tbody tr th:only-of-type {\n",
              "        vertical-align: middle;\n",
              "    }\n",
              "\n",
              "    .dataframe tbody tr th {\n",
              "        vertical-align: top;\n",
              "    }\n",
              "\n",
              "    .dataframe thead th {\n",
              "        text-align: right;\n",
              "    }\n",
              "</style>\n",
              "<table border=\"1\" class=\"dataframe\">\n",
              "  <thead>\n",
              "    <tr style=\"text-align: right;\">\n",
              "      <th></th>\n",
              "      <th>age</th>\n",
              "      <th>anaemia</th>\n",
              "      <th>creatinine_phosphokinase</th>\n",
              "      <th>diabetes</th>\n",
              "      <th>ejection_fraction</th>\n",
              "      <th>high_blood_pressure</th>\n",
              "      <th>platelets</th>\n",
              "      <th>serum_creatinine</th>\n",
              "      <th>serum_sodium</th>\n",
              "      <th>sex</th>\n",
              "      <th>smoking</th>\n",
              "      <th>time</th>\n",
              "      <th>DEATH_EVENT</th>\n",
              "    </tr>\n",
              "  </thead>\n",
              "  <tbody>\n",
              "    <tr>\n",
              "      <th>0</th>\n",
              "      <td>75.0</td>\n",
              "      <td>0</td>\n",
              "      <td>582</td>\n",
              "      <td>0</td>\n",
              "      <td>20</td>\n",
              "      <td>1</td>\n",
              "      <td>265000.00</td>\n",
              "      <td>1.9</td>\n",
              "      <td>130</td>\n",
              "      <td>1</td>\n",
              "      <td>0</td>\n",
              "      <td>4</td>\n",
              "      <td>1</td>\n",
              "    </tr>\n",
              "    <tr>\n",
              "      <th>1</th>\n",
              "      <td>55.0</td>\n",
              "      <td>0</td>\n",
              "      <td>7861</td>\n",
              "      <td>0</td>\n",
              "      <td>38</td>\n",
              "      <td>0</td>\n",
              "      <td>263358.03</td>\n",
              "      <td>1.1</td>\n",
              "      <td>136</td>\n",
              "      <td>1</td>\n",
              "      <td>0</td>\n",
              "      <td>6</td>\n",
              "      <td>1</td>\n",
              "    </tr>\n",
              "    <tr>\n",
              "      <th>2</th>\n",
              "      <td>65.0</td>\n",
              "      <td>0</td>\n",
              "      <td>146</td>\n",
              "      <td>0</td>\n",
              "      <td>20</td>\n",
              "      <td>0</td>\n",
              "      <td>162000.00</td>\n",
              "      <td>1.3</td>\n",
              "      <td>129</td>\n",
              "      <td>1</td>\n",
              "      <td>1</td>\n",
              "      <td>7</td>\n",
              "      <td>1</td>\n",
              "    </tr>\n",
              "    <tr>\n",
              "      <th>3</th>\n",
              "      <td>50.0</td>\n",
              "      <td>1</td>\n",
              "      <td>111</td>\n",
              "      <td>0</td>\n",
              "      <td>20</td>\n",
              "      <td>0</td>\n",
              "      <td>210000.00</td>\n",
              "      <td>1.9</td>\n",
              "      <td>137</td>\n",
              "      <td>1</td>\n",
              "      <td>0</td>\n",
              "      <td>7</td>\n",
              "      <td>1</td>\n",
              "    </tr>\n",
              "    <tr>\n",
              "      <th>4</th>\n",
              "      <td>65.0</td>\n",
              "      <td>1</td>\n",
              "      <td>160</td>\n",
              "      <td>1</td>\n",
              "      <td>20</td>\n",
              "      <td>0</td>\n",
              "      <td>327000.00</td>\n",
              "      <td>2.7</td>\n",
              "      <td>116</td>\n",
              "      <td>0</td>\n",
              "      <td>0</td>\n",
              "      <td>8</td>\n",
              "      <td>1</td>\n",
              "    </tr>\n",
              "  </tbody>\n",
              "</table>\n",
              "</div>"
            ],
            "text/plain": [
              "    age  anaemia  creatinine_phosphokinase  ...  smoking  time  DEATH_EVENT\n",
              "0  75.0        0                       582  ...        0     4            1\n",
              "1  55.0        0                      7861  ...        0     6            1\n",
              "2  65.0        0                       146  ...        1     7            1\n",
              "3  50.0        1                       111  ...        0     7            1\n",
              "4  65.0        1                       160  ...        0     8            1\n",
              "\n",
              "[5 rows x 13 columns]"
            ]
          },
          "metadata": {
            "tags": []
          },
          "execution_count": 3
        }
      ]
    },
    {
      "cell_type": "markdown",
      "metadata": {
        "id": "AAp3a3KmXasO"
      },
      "source": [
        "Podemos usar o describe() e info() para retornar um resumo estatístico das variáveis númericas e obter um resumo de valores não-nulos encontrados respectivamente."
      ]
    },
    {
      "cell_type": "code",
      "metadata": {
        "id": "Ge_GWMZeXbzd",
        "colab": {
          "base_uri": "https://localhost:8080/"
        },
        "outputId": "ee56887e-954b-4c01-a80d-1811180e56a1"
      },
      "source": [
        "dataFrame.describe()\n",
        "dataFrame.info()"
      ],
      "execution_count": null,
      "outputs": [
        {
          "output_type": "stream",
          "text": [
            "<class 'pandas.core.frame.DataFrame'>\n",
            "RangeIndex: 299 entries, 0 to 298\n",
            "Data columns (total 13 columns):\n",
            " #   Column                    Non-Null Count  Dtype  \n",
            "---  ------                    --------------  -----  \n",
            " 0   age                       299 non-null    float64\n",
            " 1   anaemia                   299 non-null    int64  \n",
            " 2   creatinine_phosphokinase  299 non-null    int64  \n",
            " 3   diabetes                  299 non-null    int64  \n",
            " 4   ejection_fraction         299 non-null    int64  \n",
            " 5   high_blood_pressure       299 non-null    int64  \n",
            " 6   platelets                 299 non-null    float64\n",
            " 7   serum_creatinine          299 non-null    float64\n",
            " 8   serum_sodium              299 non-null    int64  \n",
            " 9   sex                       299 non-null    int64  \n",
            " 10  smoking                   299 non-null    int64  \n",
            " 11  time                      299 non-null    int64  \n",
            " 12  DEATH_EVENT               299 non-null    int64  \n",
            "dtypes: float64(3), int64(10)\n",
            "memory usage: 30.5 KB\n"
          ],
          "name": "stdout"
        }
      ]
    },
    {
      "cell_type": "markdown",
      "metadata": {
        "id": "mRRDlQGsXe9m"
      },
      "source": [
        "Usando a combinação de aalguns métodos como o isnull().sum() podemos ver a soma dos valores nulos encontrados. Podemos ver um alto número de dados faltantes em alguns atributos"
      ]
    },
    {
      "cell_type": "code",
      "metadata": {
        "id": "uxASM8SbXfWm",
        "colab": {
          "base_uri": "https://localhost:8080/"
        },
        "outputId": "36b5a389-db12-4c27-fb16-7245b0b08008"
      },
      "source": [
        "dataFrame.isnull().sum().sort_values(ascending=False)[:10]"
      ],
      "execution_count": null,
      "outputs": [
        {
          "output_type": "execute_result",
          "data": {
            "text/plain": [
              "DEATH_EVENT            0\n",
              "time                   0\n",
              "smoking                0\n",
              "sex                    0\n",
              "serum_sodium           0\n",
              "serum_creatinine       0\n",
              "platelets              0\n",
              "high_blood_pressure    0\n",
              "ejection_fraction      0\n",
              "diabetes               0\n",
              "dtype: int64"
            ]
          },
          "metadata": {
            "tags": []
          },
          "execution_count": 5
        }
      ]
    },
    {
      "cell_type": "markdown",
      "metadata": {
        "id": "F4PGNlCuXgBv"
      },
      "source": [
        "Verifica se existem valores NAN, ? ou dados faltantes"
      ]
    },
    {
      "cell_type": "code",
      "metadata": {
        "id": "ZlZ8btqhXgkI"
      },
      "source": [
        "dataFrame = dataFrame.dropna()"
      ],
      "execution_count": null,
      "outputs": []
    },
    {
      "cell_type": "markdown",
      "metadata": {
        "id": "2P584U_uXg9O"
      },
      "source": [
        "Re-escala usando máxino e mínimo"
      ]
    },
    {
      "cell_type": "code",
      "metadata": {
        "id": "2nLEkvHQXhhu",
        "colab": {
          "base_uri": "https://localhost:8080/",
          "height": 218
        },
        "outputId": "4650efb3-8ff9-45ab-d77e-9025b7ab7aed"
      },
      "source": [
        "dataFrame = (dataFrame - dataFrame.min())/(dataFrame.max()-dataFrame.min())\n",
        "dataFrame.head()"
      ],
      "execution_count": null,
      "outputs": [
        {
          "output_type": "execute_result",
          "data": {
            "text/html": [
              "<div>\n",
              "<style scoped>\n",
              "    .dataframe tbody tr th:only-of-type {\n",
              "        vertical-align: middle;\n",
              "    }\n",
              "\n",
              "    .dataframe tbody tr th {\n",
              "        vertical-align: top;\n",
              "    }\n",
              "\n",
              "    .dataframe thead th {\n",
              "        text-align: right;\n",
              "    }\n",
              "</style>\n",
              "<table border=\"1\" class=\"dataframe\">\n",
              "  <thead>\n",
              "    <tr style=\"text-align: right;\">\n",
              "      <th></th>\n",
              "      <th>age</th>\n",
              "      <th>anaemia</th>\n",
              "      <th>creatinine_phosphokinase</th>\n",
              "      <th>diabetes</th>\n",
              "      <th>ejection_fraction</th>\n",
              "      <th>high_blood_pressure</th>\n",
              "      <th>platelets</th>\n",
              "      <th>serum_creatinine</th>\n",
              "      <th>serum_sodium</th>\n",
              "      <th>sex</th>\n",
              "      <th>smoking</th>\n",
              "      <th>time</th>\n",
              "      <th>DEATH_EVENT</th>\n",
              "    </tr>\n",
              "  </thead>\n",
              "  <tbody>\n",
              "    <tr>\n",
              "      <th>0</th>\n",
              "      <td>0.636364</td>\n",
              "      <td>0.0</td>\n",
              "      <td>0.071319</td>\n",
              "      <td>0.0</td>\n",
              "      <td>0.090909</td>\n",
              "      <td>1.0</td>\n",
              "      <td>0.290823</td>\n",
              "      <td>0.157303</td>\n",
              "      <td>0.485714</td>\n",
              "      <td>1.0</td>\n",
              "      <td>0.0</td>\n",
              "      <td>0.000000</td>\n",
              "      <td>1.0</td>\n",
              "    </tr>\n",
              "    <tr>\n",
              "      <th>1</th>\n",
              "      <td>0.272727</td>\n",
              "      <td>0.0</td>\n",
              "      <td>1.000000</td>\n",
              "      <td>0.0</td>\n",
              "      <td>0.363636</td>\n",
              "      <td>0.0</td>\n",
              "      <td>0.288833</td>\n",
              "      <td>0.067416</td>\n",
              "      <td>0.657143</td>\n",
              "      <td>1.0</td>\n",
              "      <td>0.0</td>\n",
              "      <td>0.007117</td>\n",
              "      <td>1.0</td>\n",
              "    </tr>\n",
              "    <tr>\n",
              "      <th>2</th>\n",
              "      <td>0.454545</td>\n",
              "      <td>0.0</td>\n",
              "      <td>0.015693</td>\n",
              "      <td>0.0</td>\n",
              "      <td>0.090909</td>\n",
              "      <td>0.0</td>\n",
              "      <td>0.165960</td>\n",
              "      <td>0.089888</td>\n",
              "      <td>0.457143</td>\n",
              "      <td>1.0</td>\n",
              "      <td>1.0</td>\n",
              "      <td>0.010676</td>\n",
              "      <td>1.0</td>\n",
              "    </tr>\n",
              "    <tr>\n",
              "      <th>3</th>\n",
              "      <td>0.181818</td>\n",
              "      <td>1.0</td>\n",
              "      <td>0.011227</td>\n",
              "      <td>0.0</td>\n",
              "      <td>0.090909</td>\n",
              "      <td>0.0</td>\n",
              "      <td>0.224148</td>\n",
              "      <td>0.157303</td>\n",
              "      <td>0.685714</td>\n",
              "      <td>1.0</td>\n",
              "      <td>0.0</td>\n",
              "      <td>0.010676</td>\n",
              "      <td>1.0</td>\n",
              "    </tr>\n",
              "    <tr>\n",
              "      <th>4</th>\n",
              "      <td>0.454545</td>\n",
              "      <td>1.0</td>\n",
              "      <td>0.017479</td>\n",
              "      <td>1.0</td>\n",
              "      <td>0.090909</td>\n",
              "      <td>0.0</td>\n",
              "      <td>0.365984</td>\n",
              "      <td>0.247191</td>\n",
              "      <td>0.085714</td>\n",
              "      <td>0.0</td>\n",
              "      <td>0.0</td>\n",
              "      <td>0.014235</td>\n",
              "      <td>1.0</td>\n",
              "    </tr>\n",
              "  </tbody>\n",
              "</table>\n",
              "</div>"
            ],
            "text/plain": [
              "        age  anaemia  creatinine_phosphokinase  ...  smoking      time  DEATH_EVENT\n",
              "0  0.636364      0.0                  0.071319  ...      0.0  0.000000          1.0\n",
              "1  0.272727      0.0                  1.000000  ...      0.0  0.007117          1.0\n",
              "2  0.454545      0.0                  0.015693  ...      1.0  0.010676          1.0\n",
              "3  0.181818      1.0                  0.011227  ...      0.0  0.010676          1.0\n",
              "4  0.454545      1.0                  0.017479  ...      0.0  0.014235          1.0\n",
              "\n",
              "[5 rows x 13 columns]"
            ]
          },
          "metadata": {
            "tags": []
          },
          "execution_count": 7
        }
      ]
    },
    {
      "cell_type": "markdown",
      "metadata": {
        "id": "fjd5CHMgbc1i"
      },
      "source": [
        "##Analise de correlação\n",
        "\n",
        "* Correlação exprime o grau de relação entre duas variáveis\n",
        "\n",
        "* Os dados podem ser representados por pares ordenados (x,y), onde $x$ é a variável independente ou explanatória e $y$ é a variável dependente ou resposta"
      ]
    },
    {
      "cell_type": "code",
      "metadata": {
        "id": "KwsHzRwDYEdm"
      },
      "source": [
        "idade = dataFrame.age\n",
        "bomb = dataFrame.ejection_fraction"
      ],
      "execution_count": null,
      "outputs": []
    },
    {
      "cell_type": "code",
      "metadata": {
        "colab": {
          "base_uri": "https://localhost:8080/",
          "height": 295
        },
        "id": "I5sw5T_Tcdbt",
        "outputId": "956b8887-945e-4eab-d3ba-6fb1b24c4b10"
      },
      "source": [
        "plt.scatter(idade, bomb)\n",
        "plt.xlabel('IDADE', color='white' )\n",
        "plt.ylabel('Sangue Bombeado', color='white' )\n",
        "plt.title('Diagrama de Dispersão', color='white' )\n",
        "plt.show()"
      ],
      "execution_count": null,
      "outputs": [
        {
          "output_type": "display_data",
          "data": {
            "image/png": "[encoded data removed]",
            "text/plain": [
              "<Figure size 432x288 with 1 Axes>"
            ]
          },
          "metadata": {
            "tags": [],
            "needs_background": "light"
          }
        }
      ]
    },
    {
      "cell_type": "markdown",
      "metadata": {
        "id": "RYVC-Y1UftuG"
      },
      "source": [
        "Podemos ver que a correlação das variáveis são bem dispersas sem uma correlação positiva ou negativa bem definida"
      ]
    },
    {
      "cell_type": "code",
      "metadata": {
        "id": "FiwNmWksfcsS"
      },
      "source": [
        "creatina = dataFrame.serum_creatinine\n",
        "\n",
        "sodio = dataFrame.serum_sodium"
      ],
      "execution_count": null,
      "outputs": []
    },
    {
      "cell_type": "code",
      "metadata": {
        "colab": {
          "base_uri": "https://localhost:8080/",
          "height": 295
        },
        "id": "VS8K4_-8gK5i",
        "outputId": "1dfc6537-6b3b-427f-e081-07114b50ffcc"
      },
      "source": [
        "plt.scatter(creatina, sodio)\n",
        "plt.xlabel('Creatina', color='white' )\n",
        "plt.ylabel('Sodio', color='white' )\n",
        "plt.title('Diagrama de Dispersão', color='white' )\n",
        "plt.show()"
      ],
      "execution_count": null,
      "outputs": [
        {
          "output_type": "display_data",
          "data": {
            "image/png": "[encoded data removed]",
            "text/plain": [
              "<Figure size 432x288 with 1 Axes>"
            ]
          },
          "metadata": {
            "tags": [],
            "needs_background": "light"
          }
        }
      ]
    },
    {
      "cell_type": "markdown",
      "metadata": {
        "id": "6Zc2D3rwOllc"
      },
      "source": [
        "Aqui já temos uma correlação um pouco negativa, porém ainda não é possível identificar de forma precisa a coreelação entre os doi dados"
      ]
    },
    {
      "cell_type": "markdown",
      "metadata": {
        "id": "HpHj4Dlsg7NW"
      },
      "source": [
        "##coeficiente de Correlação\n",
        "\n",
        "* O coeficiente de correlação é uma medida de forma e direção de uma relação linear entre duas variáveis\n",
        "\n",
        " * A amplitude do coeficiente de correlação é $-1$ para 1\n",
        "  * Se $x$ e $y$ têm uma correlação linear positiva forte, $\\rho$ está próximo de 1\n",
        "  * Se $x$ e $y$ têm uma correlação linear negativa forte, $\\rho$ está próximo de $-1$\n",
        "  * Se a correlação linear entre $x$ e $y$ é fraca ou inexistente, $\\rho$ está próximo de 0\n",
        "\n"
      ]
    },
    {
      "cell_type": "code",
      "metadata": {
        "colab": {
          "base_uri": "https://localhost:8080/"
        },
        "id": "yTzXpXEOkiVm",
        "outputId": "7bf2d894-bf74-4bd0-ce92-a83556e999ae"
      },
      "source": [
        "import numpy as np\n",
        "\n",
        "np.corrcoef(idade, bomb)"
      ],
      "execution_count": null,
      "outputs": [
        {
          "output_type": "execute_result",
          "data": {
            "text/plain": [
              "array([[1.        , 0.06009836],\n",
              "       [0.06009836, 1.        ]])"
            ]
          },
          "metadata": {
            "tags": []
          },
          "execution_count": 13
        }
      ]
    },
    {
      "cell_type": "code",
      "metadata": {
        "colab": {
          "base_uri": "https://localhost:8080/"
        },
        "id": "7BRoqRbdhZnr",
        "outputId": "d808f333-cc23-43c7-e223-5e4330ce0229"
      },
      "source": [
        "np.corrcoef(creatina, sodio)"
      ],
      "execution_count": null,
      "outputs": [
        {
          "output_type": "execute_result",
          "data": {
            "text/plain": [
              "array([[ 1.        , -0.18909521],\n",
              "       [-0.18909521,  1.        ]])"
            ]
          },
          "metadata": {
            "tags": []
          },
          "execution_count": 14
        }
      ]
    },
    {
      "cell_type": "code",
      "metadata": {
        "id": "78ImPeoekgkQ"
      },
      "source": [
        ""
      ],
      "execution_count": null,
      "outputs": []
    },
    {
      "cell_type": "markdown",
      "metadata": {
        "id": "_pt_AKibPBO2"
      },
      "source": [
        "Para tentar identificar de forma mais clara podemos utilizar o coeficiẽnte de correlação, chegando a conclusão que ambas comparações tem uma baixa correlação entre elas."
      ]
    },
    {
      "cell_type": "markdown",
      "metadata": {
        "id": "l13ov7qhPuvc"
      },
      "source": [
        "##Regressão Linear\n",
        "\n",
        "* Após verificar se a correlação linear entre duas variáveis é significante, o próximo passo é determinar a equação da linha que melhor modela os dados"
      ]
    },
    {
      "cell_type": "code",
      "metadata": {
        "colab": {
          "base_uri": "https://localhost:8080/"
        },
        "id": "ANkXQvyZPgJX",
        "outputId": "c9c28527-9e9e-467d-b4a0-803964f15fce"
      },
      "source": [
        "from scipy import stats\n",
        "\n",
        "creatina = dataFrame.serum_creatinine\n",
        "sodio = dataFrame.serum_sodium\n",
        "\n",
        "m, b, r_value, p_value, std_err = stats.linregress(creatina, sodio)\n",
        "m, b"
      ],
      "execution_count": null,
      "outputs": [
        {
          "output_type": "execute_result",
          "data": {
            "text/plain": [
              "(-0.20509272379484286, 0.6956106189180915)"
            ]
          },
          "metadata": {
            "tags": []
          },
          "execution_count": 17
        }
      ]
    },
    {
      "cell_type": "code",
      "metadata": {
        "id": "QaxnyNz9R3gO"
      },
      "source": [
        "#Calculando a linha de Regressão\n",
        "\n",
        "linha_reg = [m*i+b for i in range(int(max(creatina))+1)]"
      ],
      "execution_count": null,
      "outputs": []
    },
    {
      "cell_type": "code",
      "metadata": {
        "colab": {
          "base_uri": "https://localhost:8080/",
          "height": 279
        },
        "id": "hnADPoN7SMDh",
        "outputId": "444dd93d-cdb9-485d-8291-3967ac93f951"
      },
      "source": [
        "#Diagrama de disperssão entre creatina e sodio\n",
        "plt.scatter(creatina, sodio)\n",
        "plt.plot(linha_reg, 'r')\n",
        "plt.xlabel('creatina')\n",
        "plt.ylabel('sodio')\n",
        "plt.show()"
      ],
      "execution_count": null,
      "outputs": [
        {
          "output_type": "display_data",
          "data": {
            "image/png": "[encoded data removed]",
            "text/plain": [
              "<Figure size 432x288 with 1 Axes>"
            ]
          },
          "metadata": {
            "tags": [],
            "needs_background": "light"
          }
        }
      ]
    },
    {
      "cell_type": "markdown",
      "metadata": {
        "id": "g13nzxKPWapa"
      },
      "source": [
        "Temos aplicando a regressão linear uma linha que mostra uma correlação negativa fraca entre os dados"
      ]
    },
    {
      "cell_type": "code",
      "metadata": {
        "colab": {
          "base_uri": "https://localhost:8080/"
        },
        "id": "7sQQk84cWbHx",
        "outputId": "fa7d313a-8e54-451b-842f-3e8e55be671f"
      },
      "source": [
        "from scipy import stats\n",
        "\n",
        "idade = dataFrame.age\n",
        "bomb = dataFrame.ejection_fraction\n",
        "\n",
        "m, b, r_value, p_value, std_err = stats.linregress(idade, bomb)\n",
        "m, b"
      ],
      "execution_count": null,
      "outputs": [
        {
          "output_type": "execute_result",
          "data": {
            "text/plain": [
              "(0.049829478362587415, 0.34602790328774724)"
            ]
          },
          "metadata": {
            "tags": []
          },
          "execution_count": 50
        }
      ]
    },
    {
      "cell_type": "code",
      "metadata": {
        "id": "tJI-jXGrWzQq"
      },
      "source": [
        "linha_reg = [m*i+b for i in range(int(max(idade))+1)]"
      ],
      "execution_count": null,
      "outputs": []
    },
    {
      "cell_type": "code",
      "metadata": {
        "colab": {
          "base_uri": "https://localhost:8080/",
          "height": 279
        },
        "id": "cm0zhEH-Wn_h",
        "outputId": "4fd22f59-a080-4604-fe59-53ae1b089085"
      },
      "source": [
        "plt.scatter(creatina, sodio)\n",
        "plt.plot(linha_reg, 'r')\n",
        "plt.xlabel('Idade')\n",
        "plt.ylabel('Bombeamento sanguineo')\n",
        "plt.show()"
      ],
      "execution_count": null,
      "outputs": [
        {
          "output_type": "display_data",
          "data": {
            "image/png": "[encoded data removed]",
            "text/plain": [
              "<Figure size 432x288 with 1 Axes>"
            ]
          },
          "metadata": {
            "tags": [],
            "needs_background": "light"
          }
        }
      ]
    },
    {
      "cell_type": "markdown",
      "metadata": {
        "id": "7Fh1d65gXaff"
      },
      "source": [
        "Também podemos ver de forma visual aplicando a regressão linear uma linha que mostra uma correlação positiva fraca entre os dados"
      ]
    }
  ]
}