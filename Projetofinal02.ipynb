{
  "nbformat": 4,
  "nbformat_minor": 0,
  "metadata": {
    "colab": {
      "name": "Projetofinal02.ipynb",
      "provenance": [],
      "collapsed_sections": []
    },
    "kernelspec": {
      "name": "python3",
      "display_name": "Python 3"
    }
  },
  "cells": [
    {
      "cell_type": "markdown",
      "metadata": {
        "id": "yfs2143a4kRk"
      },
      "source": [
        "**Os livros mais vendidos da amazon entre 2009 e 2019**\n",
        "\n",
        "\n",
        "\n",
        "*  Conjunto de dados sobre os 50 livros mais vendidos da Amazon de 2009 a 2019.\n",
        "\n",
        "* Contém 550 livros, os dados foram categorizados em ficção e não ficção \n",
        "\n",
        "\n",
        "link dataset: https://www.kaggle.com/sootersaalu/amazon-top-50-bestselling-books-2009-2019\n",
        "\n",
        "\n",
        "\n",
        "\n"
      ]
    },
    {
      "cell_type": "markdown",
      "metadata": {
        "id": "dUZyhIKRXA-u"
      },
      "source": [
        "importndo algumas das principais biblioteca como pandas e matplot"
      ]
    },
    {
      "cell_type": "code",
      "metadata": {
        "id": "xVd9wos5PsDx"
      },
      "source": [
        "import pandas as pd\n",
        "import matplotlib.pyplot as plt\n",
        "import numpy as np\n",
        "import seaborn as sns\n"
      ],
      "execution_count": 1,
      "outputs": []
    },
    {
      "cell_type": "markdown",
      "metadata": {
        "id": "IVw-rx7GXHmG"
      },
      "source": [
        "Atribuir a uma variável o dataset escolhido"
      ]
    },
    {
      "cell_type": "code",
      "metadata": {
        "id": "TU0PB_mhXMbu"
      },
      "source": [
        "dfbooks = pd.read_csv('/content/drive/MyDrive/bestsellers.csv')"
      ],
      "execution_count": 2,
      "outputs": []
    },
    {
      "cell_type": "markdown",
      "metadata": {
        "id": "eeOwXVwQXRJO"
      },
      "source": [
        "Com o método head() é possível ver as promeiras linha dos dataframe, por padrão ele exibe as primeiras 5 linhas"
      ]
    },
    {
      "cell_type": "code",
      "metadata": {
        "id": "PuNWaeaVXSju",
        "colab": {
          "base_uri": "https://localhost:8080/",
          "height": 204
        },
        "outputId": "48ed3c30-c774-4907-8014-bd351e9813b0"
      },
      "source": [
        "dfbooks.head()"
      ],
      "execution_count": 3,
      "outputs": [
        {
          "output_type": "execute_result",
          "data": {
            "text/html": [
              "<div>\n",
              "<style scoped>\n",
              "    .dataframe tbody tr th:only-of-type {\n",
              "        vertical-align: middle;\n",
              "    }\n",
              "\n",
              "    .dataframe tbody tr th {\n",
              "        vertical-align: top;\n",
              "    }\n",
              "\n",
              "    .dataframe thead th {\n",
              "        text-align: right;\n",
              "    }\n",
              "</style>\n",
              "<table border=\"1\" class=\"dataframe\">\n",
              "  <thead>\n",
              "    <tr style=\"text-align: right;\">\n",
              "      <th></th>\n",
              "      <th>Name</th>\n",
              "      <th>Author</th>\n",
              "      <th>User Rating</th>\n",
              "      <th>Reviews</th>\n",
              "      <th>Price</th>\n",
              "      <th>Year</th>\n",
              "      <th>Genre</th>\n",
              "    </tr>\n",
              "  </thead>\n",
              "  <tbody>\n",
              "    <tr>\n",
              "      <th>0</th>\n",
              "      <td>10-Day Green Smoothie Cleanse</td>\n",
              "      <td>JJ Smith</td>\n",
              "      <td>4.7</td>\n",
              "      <td>17350</td>\n",
              "      <td>8</td>\n",
              "      <td>2016</td>\n",
              "      <td>Non Fiction</td>\n",
              "    </tr>\n",
              "    <tr>\n",
              "      <th>1</th>\n",
              "      <td>11/22/63: A Novel</td>\n",
              "      <td>Stephen King</td>\n",
              "      <td>4.6</td>\n",
              "      <td>2052</td>\n",
              "      <td>22</td>\n",
              "      <td>2011</td>\n",
              "      <td>Fiction</td>\n",
              "    </tr>\n",
              "    <tr>\n",
              "      <th>2</th>\n",
              "      <td>12 Rules for Life: An Antidote to Chaos</td>\n",
              "      <td>Jordan B. Peterson</td>\n",
              "      <td>4.7</td>\n",
              "      <td>18979</td>\n",
              "      <td>15</td>\n",
              "      <td>2018</td>\n",
              "      <td>Non Fiction</td>\n",
              "    </tr>\n",
              "    <tr>\n",
              "      <th>3</th>\n",
              "      <td>1984 (Signet Classics)</td>\n",
              "      <td>George Orwell</td>\n",
              "      <td>4.7</td>\n",
              "      <td>21424</td>\n",
              "      <td>6</td>\n",
              "      <td>2017</td>\n",
              "      <td>Fiction</td>\n",
              "    </tr>\n",
              "    <tr>\n",
              "      <th>4</th>\n",
              "      <td>5,000 Awesome Facts (About Everything!) (Natio...</td>\n",
              "      <td>National Geographic Kids</td>\n",
              "      <td>4.8</td>\n",
              "      <td>7665</td>\n",
              "      <td>12</td>\n",
              "      <td>2019</td>\n",
              "      <td>Non Fiction</td>\n",
              "    </tr>\n",
              "  </tbody>\n",
              "</table>\n",
              "</div>"
            ],
            "text/plain": [
              "                                                Name  ...        Genre\n",
              "0                      10-Day Green Smoothie Cleanse  ...  Non Fiction\n",
              "1                                  11/22/63: A Novel  ...      Fiction\n",
              "2            12 Rules for Life: An Antidote to Chaos  ...  Non Fiction\n",
              "3                             1984 (Signet Classics)  ...      Fiction\n",
              "4  5,000 Awesome Facts (About Everything!) (Natio...  ...  Non Fiction\n",
              "\n",
              "[5 rows x 7 columns]"
            ]
          },
          "metadata": {
            "tags": []
          },
          "execution_count": 3
        }
      ]
    },
    {
      "cell_type": "markdown",
      "metadata": {
        "id": "AAp3a3KmXasO"
      },
      "source": [
        "Podemos usar o describe() e info() para retornar um resumo estatístico das variáveis númericas e obter um resumo de valores não-nulos encontrados respectivamente."
      ]
    },
    {
      "cell_type": "code",
      "metadata": {
        "id": "Ge_GWMZeXbzd",
        "colab": {
          "base_uri": "https://localhost:8080/",
          "height": 0
        },
        "outputId": "e6a18bee-aec8-4976-d3ce-2a07333d12a3"
      },
      "source": [
        "dfbooks.describe()\n",
        "dfbooks.info()"
      ],
      "execution_count": 4,
      "outputs": [
        {
          "output_type": "stream",
          "text": [
            "<class 'pandas.core.frame.DataFrame'>\n",
            "RangeIndex: 550 entries, 0 to 549\n",
            "Data columns (total 7 columns):\n",
            " #   Column       Non-Null Count  Dtype  \n",
            "---  ------       --------------  -----  \n",
            " 0   Name         550 non-null    object \n",
            " 1   Author       550 non-null    object \n",
            " 2   User Rating  550 non-null    float64\n",
            " 3   Reviews      550 non-null    int64  \n",
            " 4   Price        550 non-null    int64  \n",
            " 5   Year         550 non-null    int64  \n",
            " 6   Genre        550 non-null    object \n",
            "dtypes: float64(1), int64(3), object(3)\n",
            "memory usage: 30.2+ KB\n"
          ],
          "name": "stdout"
        }
      ]
    },
    {
      "cell_type": "markdown",
      "metadata": {
        "id": "xL6NELN8PVrQ"
      },
      "source": [
        "##Analise de correlação\n",
        "\n",
        "* Correlação exprime o grau de relação entre duas variáveis\n",
        "\n",
        "* Os dados podem ser representados por pares ordenados (x,y), onde $x$ é a variável independente ou explanatória e $y$ é a variável dependente ou resposta"
      ]
    },
    {
      "cell_type": "code",
      "metadata": {
        "id": "T2JlA9W2PZ1B"
      },
      "source": [
        "preco = dfbooks.Price\n",
        "classf = dfbooks['User Rating']"
      ],
      "execution_count": 5,
      "outputs": []
    },
    {
      "cell_type": "code",
      "metadata": {
        "colab": {
          "base_uri": "https://localhost:8080/",
          "height": 295
        },
        "id": "KNeew3elPcyg",
        "outputId": "ff728fd2-e74d-4d7a-ff04-cb3ea1bd7144"
      },
      "source": [
        "#Correlçao Preco x Cassificação\n",
        "plt.scatter(preco, classf)\n",
        "plt.xlabel('PREÇO', color='white' )\n",
        "plt.ylabel('Classificação(user)', color='white' )\n",
        "plt.title('Diagrama de Dispersão', color='white' )\n",
        "plt.show()"
      ],
      "execution_count": 6,
      "outputs": [
        {
          "output_type": "display_data",
          "data": {
            "image/png": "[encoded data removed]",
            "text/plain": [
              "<Figure size 432x288 with 1 Axes>"
            ]
          },
          "metadata": {
            "tags": [],
            "needs_background": "light"
          }
        }
      ]
    },
    {
      "cell_type": "markdown",
      "metadata": {
        "id": "1ynfSrJuPsi6"
      },
      "source": [
        "Maior classificação menor preço\n",
        "\n",
        "preço nao interfere na classificação"
      ]
    },
    {
      "cell_type": "code",
      "metadata": {
        "id": "LCMzT1lxP_8V"
      },
      "source": [
        "reviwes = dfbooks.Reviews\n",
        "classf = dfbooks['User Rating']"
      ],
      "execution_count": 7,
      "outputs": []
    },
    {
      "cell_type": "code",
      "metadata": {
        "colab": {
          "base_uri": "https://localhost:8080/",
          "height": 295
        },
        "id": "yaSk6ulSQrxp",
        "outputId": "4675adc4-41f8-438b-ca77-a43f19be369f"
      },
      "source": [
        "#Correlçao Preco x Cassificação\n",
        "plt.scatter(reviwes, classf)\n",
        "plt.xlabel('Comentários', color='white' )\n",
        "plt.ylabel('Classificação(user)', color='white' )\n",
        "plt.title('Diagrama de Dispersão', color='white' )\n",
        "plt.show()"
      ],
      "execution_count": 8,
      "outputs": [
        {
          "output_type": "display_data",
          "data": {
            "image/png": "[encoded data removed]",
            "text/plain": [
              "<Figure size 432x288 with 1 Axes>"
            ]
          },
          "metadata": {
            "tags": [],
            "needs_background": "light"
          }
        }
      ]
    },
    {
      "cell_type": "markdown",
      "metadata": {
        "id": "Js9nLi8_Ruxs"
      },
      "source": [
        "Correlação alta entre classificação e  o numero de comentarios"
      ]
    },
    {
      "cell_type": "markdown",
      "metadata": {
        "id": "bzYOR5DTR9bR"
      },
      "source": [
        "##coeficiente de Correlação\n",
        "\n",
        "* O coeficiente de correlação é uma medida de forma e direção de uma relação linear entre duas variáveis\n",
        "\n",
        " * A amplitude do coeficiente de correlação é $-1$ para 1\n",
        "  * Se $x$ e $y$ têm uma correlação linear positiva forte, $\\rho$ está próximo de 1\n",
        "  * Se $x$ e $y$ têm uma correlação linear negativa forte, $\\rho$ está próximo de $-1$\n",
        "  * Se a correlação linear entre $x$ e $y$ é fraca ou inexistente, $\\rho$ está próximo de 0"
      ]
    },
    {
      "cell_type": "code",
      "metadata": {
        "colab": {
          "base_uri": "https://localhost:8080/",
          "height": 0
        },
        "id": "BWwCQ7jRSA1O",
        "outputId": "c1bb4700-266c-4b5b-9ba8-9a8bede13299"
      },
      "source": [
        "import numpy as np\n",
        "\n",
        "np.corrcoef(preco, classf)\n"
      ],
      "execution_count": 9,
      "outputs": [
        {
          "output_type": "execute_result",
          "data": {
            "text/plain": [
              "array([[ 1.        , -0.13308629],\n",
              "       [-0.13308629,  1.        ]])"
            ]
          },
          "metadata": {
            "tags": []
          },
          "execution_count": 9
        }
      ]
    },
    {
      "cell_type": "code",
      "metadata": {
        "colab": {
          "base_uri": "https://localhost:8080/",
          "height": 0
        },
        "id": "ZRMrbhVF1WmF",
        "outputId": "b57fad91-4e53-4aa4-f308-3755c4352441"
      },
      "source": [
        "import numpy as np\n",
        "\n",
        "np.corrcoef(preco, reviwes)"
      ],
      "execution_count": 10,
      "outputs": [
        {
          "output_type": "execute_result",
          "data": {
            "text/plain": [
              "array([[ 1.        , -0.10918188],\n",
              "       [-0.10918188,  1.        ]])"
            ]
          },
          "metadata": {
            "tags": []
          },
          "execution_count": 10
        }
      ]
    },
    {
      "cell_type": "markdown",
      "metadata": {
        "id": "s8cMAWstSaGk"
      },
      "source": [
        "Para tentar identificar de forma mais clara podemos utilizar o coeficiẽnte de correlação, chegando a conclusão que ambas comparações tem uma baixa correlação entre elas."
      ]
    },
    {
      "cell_type": "markdown",
      "metadata": {
        "id": "spdCpKQxSgnl"
      },
      "source": [
        "##Regressão Linear\n",
        "\n",
        "* Após verificar se a correlação linear entre duas variáveis é significante, o próximo passo é determinar a equação da linha que melhor modela os dados"
      ]
    },
    {
      "cell_type": "code",
      "metadata": {
        "colab": {
          "base_uri": "https://localhost:8080/",
          "height": 0
        },
        "id": "9KVfMzpiSiwd",
        "outputId": "030b1647-0ff4-4ec9-9268-1d321ed71e85"
      },
      "source": [
        "from scipy import stats\n",
        "\n",
        "preco = dfbooks.Price\n",
        "classf = dfbooks['User Rating']\n",
        "\n",
        "m, b, r_value, p_value, std_err = stats.linregress(preco, classf)\n",
        "m, b"
      ],
      "execution_count": 11,
      "outputs": [
        {
          "output_type": "execute_result",
          "data": {
            "text/plain": [
              "(-0.0027861320937439442, 4.654861966791683)"
            ]
          },
          "metadata": {
            "tags": []
          },
          "execution_count": 11
        }
      ]
    },
    {
      "cell_type": "code",
      "metadata": {
        "id": "XFGSQJLSS-74"
      },
      "source": [
        "#Calculando a linha de Regressão\n",
        "\n",
        "linha_reg = [m*i+b for i in range(int(max(preco))+1)]"
      ],
      "execution_count": 12,
      "outputs": []
    },
    {
      "cell_type": "code",
      "metadata": {
        "colab": {
          "base_uri": "https://localhost:8080/",
          "height": 279
        },
        "id": "2X6NjgyiTCSg",
        "outputId": "00f209d0-6ff8-4733-d9e7-dbb7490ab391"
      },
      "source": [
        "#Diagrama de disperssão entre preço e  classificação\n",
        "plt.scatter(preco, classf)\n",
        "plt.plot(linha_reg, 'r')\n",
        "plt.xlabel('PREÇO')\n",
        "plt.ylabel('Classificação(users)')\n",
        "plt.show()"
      ],
      "execution_count": 13,
      "outputs": [
        {
          "output_type": "display_data",
          "data": {
            "image/png": "[encoded data removed]",
            "text/plain": [
              "<Figure size 432x288 with 1 Axes>"
            ]
          },
          "metadata": {
            "tags": [],
            "needs_background": "light"
          }
        }
      ]
    },
    {
      "cell_type": "code",
      "metadata": {
        "colab": {
          "base_uri": "https://localhost:8080/",
          "height": 0
        },
        "id": "a5BJXu8RVl7y",
        "outputId": "aabd7338-6744-4669-a959-67e16806d6e6"
      },
      "source": [
        "dfbooks['Author'].value_counts()"
      ],
      "execution_count": 14,
      "outputs": [
        {
          "output_type": "execute_result",
          "data": {
            "text/plain": [
              "Jeff Kinney                           12\n",
              "Rick Riordan                          11\n",
              "Gary Chapman                          11\n",
              "Suzanne Collins                       11\n",
              "American Psychological Association    10\n",
              "                                      ..\n",
              "The Staff of The Late Show with\n",
              "       1\n",
              "Mark Owen                              1\n",
              "Hopscotch Girls                        1\n",
              "Patrick Thorpe                         1\n",
              "Alice Schertle                         1\n",
              "Name: Author, Length: 248, dtype: int64"
            ]
          },
          "metadata": {
            "tags": []
          },
          "execution_count": 14
        }
      ]
    },
    {
      "cell_type": "code",
      "metadata": {
        "colab": {
          "base_uri": "https://localhost:8080/",
          "height": 419
        },
        "id": "QL6l-GNta4Hd",
        "outputId": "3f48eeb6-539c-45cb-b9f0-0cf105d430b5"
      },
      "source": [
        "dfauthors = pd.DataFrame(dfbooks['Author'].unique(),columns=['Name'])\n",
        "dfauthors"
      ],
      "execution_count": 15,
      "outputs": [
        {
          "output_type": "execute_result",
          "data": {
            "text/html": [
              "<div>\n",
              "<style scoped>\n",
              "    .dataframe tbody tr th:only-of-type {\n",
              "        vertical-align: middle;\n",
              "    }\n",
              "\n",
              "    .dataframe tbody tr th {\n",
              "        vertical-align: top;\n",
              "    }\n",
              "\n",
              "    .dataframe thead th {\n",
              "        text-align: right;\n",
              "    }\n",
              "</style>\n",
              "<table border=\"1\" class=\"dataframe\">\n",
              "  <thead>\n",
              "    <tr style=\"text-align: right;\">\n",
              "      <th></th>\n",
              "      <th>Name</th>\n",
              "    </tr>\n",
              "  </thead>\n",
              "  <tbody>\n",
              "    <tr>\n",
              "      <th>0</th>\n",
              "      <td>JJ Smith</td>\n",
              "    </tr>\n",
              "    <tr>\n",
              "      <th>1</th>\n",
              "      <td>Stephen King</td>\n",
              "    </tr>\n",
              "    <tr>\n",
              "      <th>2</th>\n",
              "      <td>Jordan B. Peterson</td>\n",
              "    </tr>\n",
              "    <tr>\n",
              "      <th>3</th>\n",
              "      <td>George Orwell</td>\n",
              "    </tr>\n",
              "    <tr>\n",
              "      <th>4</th>\n",
              "      <td>National Geographic Kids</td>\n",
              "    </tr>\n",
              "    <tr>\n",
              "      <th>...</th>\n",
              "      <td>...</td>\n",
              "    </tr>\n",
              "    <tr>\n",
              "      <th>243</th>\n",
              "      <td>Cheryl Strayed</td>\n",
              "    </tr>\n",
              "    <tr>\n",
              "      <th>244</th>\n",
              "      <td>Ken Follett</td>\n",
              "    </tr>\n",
              "    <tr>\n",
              "      <th>245</th>\n",
              "      <td>Geneen Roth</td>\n",
              "    </tr>\n",
              "    <tr>\n",
              "      <th>246</th>\n",
              "      <td>R. J. Palacio</td>\n",
              "    </tr>\n",
              "    <tr>\n",
              "      <th>247</th>\n",
              "      <td>Jen Sincero</td>\n",
              "    </tr>\n",
              "  </tbody>\n",
              "</table>\n",
              "<p>248 rows × 1 columns</p>\n",
              "</div>"
            ],
            "text/plain": [
              "                         Name\n",
              "0                    JJ Smith\n",
              "1                Stephen King\n",
              "2          Jordan B. Peterson\n",
              "3               George Orwell\n",
              "4    National Geographic Kids\n",
              "..                        ...\n",
              "243            Cheryl Strayed\n",
              "244               Ken Follett\n",
              "245               Geneen Roth\n",
              "246             R. J. Palacio\n",
              "247               Jen Sincero\n",
              "\n",
              "[248 rows x 1 columns]"
            ]
          },
          "metadata": {
            "tags": []
          },
          "execution_count": 15
        }
      ]
    },
    {
      "cell_type": "code",
      "metadata": {
        "colab": {
          "base_uri": "https://localhost:8080/",
          "height": 419
        },
        "id": "nKBg9LpcbGI9",
        "outputId": "e0bd7ffa-d4bd-41b6-e375-7f5e63d21bd0"
      },
      "source": [
        "#Número de livros por autores\n",
        "cont = dfbooks['Author'].value_counts()\n",
        "dfauthors['NbBooks'] = dfauthors['Name'].apply(lambda x: cont[x])\n",
        "dfauthors.sort_values('NbBooks',ascending=False)"
      ],
      "execution_count": 16,
      "outputs": [
        {
          "output_type": "execute_result",
          "data": {
            "text/html": [
              "<div>\n",
              "<style scoped>\n",
              "    .dataframe tbody tr th:only-of-type {\n",
              "        vertical-align: middle;\n",
              "    }\n",
              "\n",
              "    .dataframe tbody tr th {\n",
              "        vertical-align: top;\n",
              "    }\n",
              "\n",
              "    .dataframe thead th {\n",
              "        text-align: right;\n",
              "    }\n",
              "</style>\n",
              "<table border=\"1\" class=\"dataframe\">\n",
              "  <thead>\n",
              "    <tr style=\"text-align: right;\">\n",
              "      <th></th>\n",
              "      <th>Name</th>\n",
              "      <th>NbBooks</th>\n",
              "    </tr>\n",
              "  </thead>\n",
              "  <tbody>\n",
              "    <tr>\n",
              "      <th>33</th>\n",
              "      <td>Jeff Kinney</td>\n",
              "      <td>12</td>\n",
              "    </tr>\n",
              "    <tr>\n",
              "      <th>159</th>\n",
              "      <td>Gary Chapman</td>\n",
              "      <td>11</td>\n",
              "    </tr>\n",
              "    <tr>\n",
              "      <th>136</th>\n",
              "      <td>Rick Riordan</td>\n",
              "      <td>11</td>\n",
              "    </tr>\n",
              "    <tr>\n",
              "      <th>37</th>\n",
              "      <td>Suzanne Collins</td>\n",
              "      <td>11</td>\n",
              "    </tr>\n",
              "    <tr>\n",
              "      <th>139</th>\n",
              "      <td>American Psychological Association</td>\n",
              "      <td>10</td>\n",
              "    </tr>\n",
              "    <tr>\n",
              "      <th>...</th>\n",
              "      <td>...</td>\n",
              "      <td>...</td>\n",
              "    </tr>\n",
              "    <tr>\n",
              "      <th>114</th>\n",
              "      <td>Keith Richards</td>\n",
              "      <td>1</td>\n",
              "    </tr>\n",
              "    <tr>\n",
              "      <th>115</th>\n",
              "      <td>Chris Cleave</td>\n",
              "      <td>1</td>\n",
              "    </tr>\n",
              "    <tr>\n",
              "      <th>116</th>\n",
              "      <td>Alice Schertle</td>\n",
              "      <td>1</td>\n",
              "    </tr>\n",
              "    <tr>\n",
              "      <th>117</th>\n",
              "      <td>Celeste Ng</td>\n",
              "      <td>1</td>\n",
              "    </tr>\n",
              "    <tr>\n",
              "      <th>124</th>\n",
              "      <td>Adam Gasiewski</td>\n",
              "      <td>1</td>\n",
              "    </tr>\n",
              "  </tbody>\n",
              "</table>\n",
              "<p>248 rows × 2 columns</p>\n",
              "</div>"
            ],
            "text/plain": [
              "                                   Name  NbBooks\n",
              "33                          Jeff Kinney       12\n",
              "159                        Gary Chapman       11\n",
              "136                        Rick Riordan       11\n",
              "37                      Suzanne Collins       11\n",
              "139  American Psychological Association       10\n",
              "..                                  ...      ...\n",
              "114                      Keith Richards        1\n",
              "115                        Chris Cleave        1\n",
              "116                      Alice Schertle        1\n",
              "117                          Celeste Ng        1\n",
              "124                      Adam Gasiewski        1\n",
              "\n",
              "[248 rows x 2 columns]"
            ]
          },
          "metadata": {
            "tags": []
          },
          "execution_count": 16
        }
      ]
    },
    {
      "cell_type": "code",
      "metadata": {
        "colab": {
          "base_uri": "https://localhost:8080/",
          "height": 419
        },
        "id": "3Qu5RQV_iJQX",
        "outputId": "8f2e4a9d-3999-45fe-c27c-a5e82fdc8a37"
      },
      "source": [
        "# Média dos preços e das avaliações\n",
        "meanPrice = dfbooks.groupby('Author').mean()['Price']\n",
        "dfauthors['MeanPrice'] = dfauthors['Name'].apply(lambda x: meanPrice[x])\n",
        "\n",
        "meanRatings = dfbooks.groupby('Author').mean()['User Rating']\n",
        "dfauthors['MeanUserRating'] = dfauthors['Name'].apply(lambda x: meanRatings[x])\n",
        "\n",
        "dfauthors"
      ],
      "execution_count": 17,
      "outputs": [
        {
          "output_type": "execute_result",
          "data": {
            "text/html": [
              "<div>\n",
              "<style scoped>\n",
              "    .dataframe tbody tr th:only-of-type {\n",
              "        vertical-align: middle;\n",
              "    }\n",
              "\n",
              "    .dataframe tbody tr th {\n",
              "        vertical-align: top;\n",
              "    }\n",
              "\n",
              "    .dataframe thead th {\n",
              "        text-align: right;\n",
              "    }\n",
              "</style>\n",
              "<table border=\"1\" class=\"dataframe\">\n",
              "  <thead>\n",
              "    <tr style=\"text-align: right;\">\n",
              "      <th></th>\n",
              "      <th>Name</th>\n",
              "      <th>NbBooks</th>\n",
              "      <th>MeanPrice</th>\n",
              "      <th>MeanUserRating</th>\n",
              "    </tr>\n",
              "  </thead>\n",
              "  <tbody>\n",
              "    <tr>\n",
              "      <th>0</th>\n",
              "      <td>JJ Smith</td>\n",
              "      <td>1</td>\n",
              "      <td>8.00</td>\n",
              "      <td>4.700</td>\n",
              "    </tr>\n",
              "    <tr>\n",
              "      <th>1</th>\n",
              "      <td>Stephen King</td>\n",
              "      <td>4</td>\n",
              "      <td>16.75</td>\n",
              "      <td>4.525</td>\n",
              "    </tr>\n",
              "    <tr>\n",
              "      <th>2</th>\n",
              "      <td>Jordan B. Peterson</td>\n",
              "      <td>1</td>\n",
              "      <td>15.00</td>\n",
              "      <td>4.700</td>\n",
              "    </tr>\n",
              "    <tr>\n",
              "      <th>3</th>\n",
              "      <td>George Orwell</td>\n",
              "      <td>1</td>\n",
              "      <td>6.00</td>\n",
              "      <td>4.700</td>\n",
              "    </tr>\n",
              "    <tr>\n",
              "      <th>4</th>\n",
              "      <td>National Geographic Kids</td>\n",
              "      <td>1</td>\n",
              "      <td>12.00</td>\n",
              "      <td>4.800</td>\n",
              "    </tr>\n",
              "    <tr>\n",
              "      <th>...</th>\n",
              "      <td>...</td>\n",
              "      <td>...</td>\n",
              "      <td>...</td>\n",
              "      <td>...</td>\n",
              "    </tr>\n",
              "    <tr>\n",
              "      <th>243</th>\n",
              "      <td>Cheryl Strayed</td>\n",
              "      <td>1</td>\n",
              "      <td>18.00</td>\n",
              "      <td>4.400</td>\n",
              "    </tr>\n",
              "    <tr>\n",
              "      <th>244</th>\n",
              "      <td>Ken Follett</td>\n",
              "      <td>1</td>\n",
              "      <td>15.00</td>\n",
              "      <td>4.500</td>\n",
              "    </tr>\n",
              "    <tr>\n",
              "      <th>245</th>\n",
              "      <td>Geneen Roth</td>\n",
              "      <td>1</td>\n",
              "      <td>11.00</td>\n",
              "      <td>4.200</td>\n",
              "    </tr>\n",
              "    <tr>\n",
              "      <th>246</th>\n",
              "      <td>R. J. Palacio</td>\n",
              "      <td>5</td>\n",
              "      <td>9.00</td>\n",
              "      <td>4.800</td>\n",
              "    </tr>\n",
              "    <tr>\n",
              "      <th>247</th>\n",
              "      <td>Jen Sincero</td>\n",
              "      <td>4</td>\n",
              "      <td>8.00</td>\n",
              "      <td>4.700</td>\n",
              "    </tr>\n",
              "  </tbody>\n",
              "</table>\n",
              "<p>248 rows × 4 columns</p>\n",
              "</div>"
            ],
            "text/plain": [
              "                         Name  NbBooks  MeanPrice  MeanUserRating\n",
              "0                    JJ Smith        1       8.00           4.700\n",
              "1                Stephen King        4      16.75           4.525\n",
              "2          Jordan B. Peterson        1      15.00           4.700\n",
              "3               George Orwell        1       6.00           4.700\n",
              "4    National Geographic Kids        1      12.00           4.800\n",
              "..                        ...      ...        ...             ...\n",
              "243            Cheryl Strayed        1      18.00           4.400\n",
              "244               Ken Follett        1      15.00           4.500\n",
              "245               Geneen Roth        1      11.00           4.200\n",
              "246             R. J. Palacio        5       9.00           4.800\n",
              "247               Jen Sincero        4       8.00           4.700\n",
              "\n",
              "[248 rows x 4 columns]"
            ]
          },
          "metadata": {
            "tags": []
          },
          "execution_count": 17
        }
      ]
    },
    {
      "cell_type": "code",
      "metadata": {
        "colab": {
          "base_uri": "https://localhost:8080/",
          "height": 295
        },
        "id": "wHWitXe6kTiZ",
        "outputId": "e2c390e1-3322-4259-c5f7-a3296d7ce44b"
      },
      "source": [
        "#Correlçao Preco x Cassificação\n",
        "plt.scatter(meanPrice, meanRatings)\n",
        "plt.xlabel('Comentários', color='white' )\n",
        "plt.ylabel('Classificação(user)', color='white' )\n",
        "plt.title('Diagrama de Dispersão', color='white' )\n",
        "plt.show()"
      ],
      "execution_count": 18,
      "outputs": [
        {
          "output_type": "display_data",
          "data": {
            "image/png": "[encoded data removed]",
            "text/plain": [
              "<Figure size 432x288 with 1 Axes>"
            ]
          },
          "metadata": {
            "tags": [],
            "needs_background": "light"
          }
        }
      ]
    },
    {
      "cell_type": "code",
      "metadata": {
        "colab": {
          "base_uri": "https://localhost:8080/",
          "height": 419
        },
        "id": "bctj5cSdn20J",
        "outputId": "d0694487-d03c-4a66-bdbe-f1de1c5f0084"
      },
      "source": [
        "dfauthors['RatingPriceFactor'] = dfauthors['MeanUserRating']/dfauthors['MeanPrice']\n",
        "dfauthors=dfauthors[dfauthors['RatingPriceFactor']<np.inf]\n",
        "dfauthors.sort_values('RatingPriceFactor',ascending=False)"
      ],
      "execution_count": 19,
      "outputs": [
        {
          "output_type": "execute_result",
          "data": {
            "text/html": [
              "<div>\n",
              "<style scoped>\n",
              "    .dataframe tbody tr th:only-of-type {\n",
              "        vertical-align: middle;\n",
              "    }\n",
              "\n",
              "    .dataframe tbody tr th {\n",
              "        vertical-align: top;\n",
              "    }\n",
              "\n",
              "    .dataframe thead th {\n",
              "        text-align: right;\n",
              "    }\n",
              "</style>\n",
              "<table border=\"1\" class=\"dataframe\">\n",
              "  <thead>\n",
              "    <tr style=\"text-align: right;\">\n",
              "      <th></th>\n",
              "      <th>Name</th>\n",
              "      <th>NbBooks</th>\n",
              "      <th>MeanPrice</th>\n",
              "      <th>MeanUserRating</th>\n",
              "      <th>RatingPriceFactor</th>\n",
              "    </tr>\n",
              "  </thead>\n",
              "  <tbody>\n",
              "    <tr>\n",
              "      <th>9</th>\n",
              "      <td>Larry Schweikart</td>\n",
              "      <td>1</td>\n",
              "      <td>2.000000</td>\n",
              "      <td>4.600000</td>\n",
              "      <td>2.300000</td>\n",
              "    </tr>\n",
              "    <tr>\n",
              "      <th>61</th>\n",
              "      <td>Bob Woodward</td>\n",
              "      <td>1</td>\n",
              "      <td>2.000000</td>\n",
              "      <td>4.400000</td>\n",
              "      <td>2.200000</td>\n",
              "    </tr>\n",
              "    <tr>\n",
              "      <th>7</th>\n",
              "      <td>James Comey</td>\n",
              "      <td>1</td>\n",
              "      <td>3.000000</td>\n",
              "      <td>4.700000</td>\n",
              "      <td>1.566667</td>\n",
              "    </tr>\n",
              "    <tr>\n",
              "      <th>97</th>\n",
              "      <td>Ann Whitford Paul</td>\n",
              "      <td>2</td>\n",
              "      <td>4.000000</td>\n",
              "      <td>4.800000</td>\n",
              "      <td>1.200000</td>\n",
              "    </tr>\n",
              "    <tr>\n",
              "      <th>87</th>\n",
              "      <td>Mitch Albom</td>\n",
              "      <td>1</td>\n",
              "      <td>4.000000</td>\n",
              "      <td>4.800000</td>\n",
              "      <td>1.200000</td>\n",
              "    </tr>\n",
              "    <tr>\n",
              "      <th>...</th>\n",
              "      <td>...</td>\n",
              "      <td>...</td>\n",
              "      <td>...</td>\n",
              "      <td>...</td>\n",
              "      <td>...</td>\n",
              "    </tr>\n",
              "    <tr>\n",
              "      <th>203</th>\n",
              "      <td>The College Board</td>\n",
              "      <td>6</td>\n",
              "      <td>39.333333</td>\n",
              "      <td>4.383333</td>\n",
              "      <td>0.111441</td>\n",
              "    </tr>\n",
              "    <tr>\n",
              "      <th>139</th>\n",
              "      <td>American Psychological Association</td>\n",
              "      <td>10</td>\n",
              "      <td>46.000000</td>\n",
              "      <td>4.500000</td>\n",
              "      <td>0.097826</td>\n",
              "    </tr>\n",
              "    <tr>\n",
              "      <th>83</th>\n",
              "      <td>Lin-Manuel Miranda</td>\n",
              "      <td>1</td>\n",
              "      <td>54.000000</td>\n",
              "      <td>4.900000</td>\n",
              "      <td>0.090741</td>\n",
              "    </tr>\n",
              "    <tr>\n",
              "      <th>168</th>\n",
              "      <td>Bill Simmons</td>\n",
              "      <td>1</td>\n",
              "      <td>53.000000</td>\n",
              "      <td>4.700000</td>\n",
              "      <td>0.088679</td>\n",
              "    </tr>\n",
              "    <tr>\n",
              "      <th>49</th>\n",
              "      <td>American Psychiatric Association</td>\n",
              "      <td>2</td>\n",
              "      <td>105.000000</td>\n",
              "      <td>4.500000</td>\n",
              "      <td>0.042857</td>\n",
              "    </tr>\n",
              "  </tbody>\n",
              "</table>\n",
              "<p>245 rows × 5 columns</p>\n",
              "</div>"
            ],
            "text/plain": [
              "                                   Name  ...  RatingPriceFactor\n",
              "9                      Larry Schweikart  ...           2.300000\n",
              "61                         Bob Woodward  ...           2.200000\n",
              "7                           James Comey  ...           1.566667\n",
              "97                    Ann Whitford Paul  ...           1.200000\n",
              "87                          Mitch Albom  ...           1.200000\n",
              "..                                  ...  ...                ...\n",
              "203                   The College Board  ...           0.111441\n",
              "139  American Psychological Association  ...           0.097826\n",
              "83                   Lin-Manuel Miranda  ...           0.090741\n",
              "168                        Bill Simmons  ...           0.088679\n",
              "49     American Psychiatric Association  ...           0.042857\n",
              "\n",
              "[245 rows x 5 columns]"
            ]
          },
          "metadata": {
            "tags": []
          },
          "execution_count": 19
        }
      ]
    },
    {
      "cell_type": "code",
      "metadata": {
        "colab": {
          "base_uri": "https://localhost:8080/",
          "height": 541
        },
        "id": "LQTXnkVP-j29",
        "outputId": "10a2375a-511f-4102-bfee-e23eb0453312"
      },
      "source": [
        "dfauthors['MultiBooks'] = dfauthors['NbBooks'].apply(lambda x: x>1)\n",
        "dfauthors"
      ],
      "execution_count": 24,
      "outputs": [
        {
          "output_type": "stream",
          "text": [
            "/usr/local/lib/python3.6/dist-packages/ipykernel_launcher.py:1: SettingWithCopyWarning: \n",
            "A value is trying to be set on a copy of a slice from a DataFrame.\n",
            "Try using .loc[row_indexer,col_indexer] = value instead\n",
            "\n",
            "See the caveats in the documentation: https://pandas.pydata.org/pandas-docs/stable/user_guide/indexing.html#returning-a-view-versus-a-copy\n",
            "  \"\"\"Entry point for launching an IPython kernel.\n"
          ],
          "name": "stderr"
        },
        {
          "output_type": "execute_result",
          "data": {
            "text/html": [
              "<div>\n",
              "<style scoped>\n",
              "    .dataframe tbody tr th:only-of-type {\n",
              "        vertical-align: middle;\n",
              "    }\n",
              "\n",
              "    .dataframe tbody tr th {\n",
              "        vertical-align: top;\n",
              "    }\n",
              "\n",
              "    .dataframe thead th {\n",
              "        text-align: right;\n",
              "    }\n",
              "</style>\n",
              "<table border=\"1\" class=\"dataframe\">\n",
              "  <thead>\n",
              "    <tr style=\"text-align: right;\">\n",
              "      <th></th>\n",
              "      <th>Name</th>\n",
              "      <th>NbBooks</th>\n",
              "      <th>MeanPrice</th>\n",
              "      <th>MeanUserRating</th>\n",
              "      <th>RatingPriceFactor</th>\n",
              "      <th>MultiBooks</th>\n",
              "    </tr>\n",
              "  </thead>\n",
              "  <tbody>\n",
              "    <tr>\n",
              "      <th>0</th>\n",
              "      <td>JJ Smith</td>\n",
              "      <td>1</td>\n",
              "      <td>8.00</td>\n",
              "      <td>4.700</td>\n",
              "      <td>0.587500</td>\n",
              "      <td>False</td>\n",
              "    </tr>\n",
              "    <tr>\n",
              "      <th>1</th>\n",
              "      <td>Stephen King</td>\n",
              "      <td>4</td>\n",
              "      <td>16.75</td>\n",
              "      <td>4.525</td>\n",
              "      <td>0.270149</td>\n",
              "      <td>True</td>\n",
              "    </tr>\n",
              "    <tr>\n",
              "      <th>2</th>\n",
              "      <td>Jordan B. Peterson</td>\n",
              "      <td>1</td>\n",
              "      <td>15.00</td>\n",
              "      <td>4.700</td>\n",
              "      <td>0.313333</td>\n",
              "      <td>False</td>\n",
              "    </tr>\n",
              "    <tr>\n",
              "      <th>3</th>\n",
              "      <td>George Orwell</td>\n",
              "      <td>1</td>\n",
              "      <td>6.00</td>\n",
              "      <td>4.700</td>\n",
              "      <td>0.783333</td>\n",
              "      <td>False</td>\n",
              "    </tr>\n",
              "    <tr>\n",
              "      <th>4</th>\n",
              "      <td>National Geographic Kids</td>\n",
              "      <td>1</td>\n",
              "      <td>12.00</td>\n",
              "      <td>4.800</td>\n",
              "      <td>0.400000</td>\n",
              "      <td>False</td>\n",
              "    </tr>\n",
              "    <tr>\n",
              "      <th>...</th>\n",
              "      <td>...</td>\n",
              "      <td>...</td>\n",
              "      <td>...</td>\n",
              "      <td>...</td>\n",
              "      <td>...</td>\n",
              "      <td>...</td>\n",
              "    </tr>\n",
              "    <tr>\n",
              "      <th>243</th>\n",
              "      <td>Cheryl Strayed</td>\n",
              "      <td>1</td>\n",
              "      <td>18.00</td>\n",
              "      <td>4.400</td>\n",
              "      <td>0.244444</td>\n",
              "      <td>False</td>\n",
              "    </tr>\n",
              "    <tr>\n",
              "      <th>244</th>\n",
              "      <td>Ken Follett</td>\n",
              "      <td>1</td>\n",
              "      <td>15.00</td>\n",
              "      <td>4.500</td>\n",
              "      <td>0.300000</td>\n",
              "      <td>False</td>\n",
              "    </tr>\n",
              "    <tr>\n",
              "      <th>245</th>\n",
              "      <td>Geneen Roth</td>\n",
              "      <td>1</td>\n",
              "      <td>11.00</td>\n",
              "      <td>4.200</td>\n",
              "      <td>0.381818</td>\n",
              "      <td>False</td>\n",
              "    </tr>\n",
              "    <tr>\n",
              "      <th>246</th>\n",
              "      <td>R. J. Palacio</td>\n",
              "      <td>5</td>\n",
              "      <td>9.00</td>\n",
              "      <td>4.800</td>\n",
              "      <td>0.533333</td>\n",
              "      <td>True</td>\n",
              "    </tr>\n",
              "    <tr>\n",
              "      <th>247</th>\n",
              "      <td>Jen Sincero</td>\n",
              "      <td>4</td>\n",
              "      <td>8.00</td>\n",
              "      <td>4.700</td>\n",
              "      <td>0.587500</td>\n",
              "      <td>True</td>\n",
              "    </tr>\n",
              "  </tbody>\n",
              "</table>\n",
              "<p>245 rows × 6 columns</p>\n",
              "</div>"
            ],
            "text/plain": [
              "                         Name  NbBooks  ...  RatingPriceFactor  MultiBooks\n",
              "0                    JJ Smith        1  ...           0.587500       False\n",
              "1                Stephen King        4  ...           0.270149        True\n",
              "2          Jordan B. Peterson        1  ...           0.313333       False\n",
              "3               George Orwell        1  ...           0.783333       False\n",
              "4    National Geographic Kids        1  ...           0.400000       False\n",
              "..                        ...      ...  ...                ...         ...\n",
              "243            Cheryl Strayed        1  ...           0.244444       False\n",
              "244               Ken Follett        1  ...           0.300000       False\n",
              "245               Geneen Roth        1  ...           0.381818       False\n",
              "246             R. J. Palacio        5  ...           0.533333        True\n",
              "247               Jen Sincero        4  ...           0.587500        True\n",
              "\n",
              "[245 rows x 6 columns]"
            ]
          },
          "metadata": {
            "tags": []
          },
          "execution_count": 24
        }
      ]
    },
    {
      "cell_type": "code",
      "metadata": {
        "colab": {
          "base_uri": "https://localhost:8080/",
          "height": 0
        },
        "id": "jC5q3_EMm3vM",
        "outputId": "27c5e630-fefc-4628-91c3-e2d76cb22130"
      },
      "source": [
        "#Autores melhores avaliados avaliados com apenas 1 livro\n",
        "dfauthors[dfauthors['MultiBooks']==False].sort_values('RatingPriceFactor',ascending=False)['Name'][:10]"
      ],
      "execution_count": 25,
      "outputs": [
        {
          "output_type": "execute_result",
          "data": {
            "text/plain": [
              "9                 Larry Schweikart\n",
              "61                    Bob Woodward\n",
              "7                      James Comey\n",
              "140                   Golden Books\n",
              "87                     Mitch Albom\n",
              "231                     Silly Bear\n",
              "34                    Sasha O'Hara\n",
              "13     Adult Coloring Book Designs\n",
              "198                    Chip Gaines\n",
              "53                     Marty Noble\n",
              "Name: Name, dtype: object"
            ]
          },
          "metadata": {
            "tags": []
          },
          "execution_count": 25
        }
      ]
    },
    {
      "cell_type": "code",
      "metadata": {
        "colab": {
          "base_uri": "https://localhost:8080/",
          "height": 0
        },
        "id": "-9U1Ml-8onwb",
        "outputId": "6a8b577a-35cb-458e-fa9f-f111ad616e42"
      },
      "source": [
        "#Autores melhores avaliados avaliados com mais de 1 livro\n",
        "dfauthors[dfauthors['MultiBooks']].sort_values('RatingPriceFactor',ascending=False)['Name'][:10]"
      ],
      "execution_count": 26,
      "outputs": [
        {
          "output_type": "execute_result",
          "data": {
            "text/plain": [
              "71         Giles Andreae\n",
              "97     Ann Whitford Paul\n",
              "219          Craig Smith\n",
              "64          Roger Priddy\n",
              "108          Rob Elliott\n",
              "41       Marjorie Sarnat\n",
              "73            Harper Lee\n",
              "32       Bill Martin Jr.\n",
              "216           Eric Carle\n",
              "120        Robert Munsch\n",
              "Name: Name, dtype: object"
            ]
          },
          "metadata": {
            "tags": []
          },
          "execution_count": 26
        }
      ]
    },
    {
      "cell_type": "code",
      "metadata": {
        "colab": {
          "base_uri": "https://localhost:8080/",
          "height": 0
        },
        "id": "1ySm1jNio3J2",
        "outputId": "96ba55dc-f368-42b5-a95c-78cfe128fc5c"
      },
      "source": [
        "#Autores com livros mais caros e com pior classificação\n",
        "dfauthors.sort_values('RatingPriceFactor')['Name'][:10]"
      ],
      "execution_count": 27,
      "outputs": [
        {
          "output_type": "execute_result",
          "data": {
            "text/plain": [
              "49       American Psychiatric Association\n",
              "168                          Bill Simmons\n",
              "83                     Lin-Manuel Miranda\n",
              "139    American Psychological Association\n",
              "203                     The College Board\n",
              "232                            Alan Moore\n",
              "162                          Paulo Coelho\n",
              "85                          J. K. Rowling\n",
              "10                          Jaycee Dugard\n",
              "36                         Thomas Piketty\n",
              "Name: Name, dtype: object"
            ]
          },
          "metadata": {
            "tags": []
          },
          "execution_count": 27
        }
      ]
    },
    {
      "cell_type": "code",
      "metadata": {
        "id": "4ksLnO2j9yJe"
      },
      "source": [
        "#separando nódulos malignos e benignos para fazer a comparação\n",
        "ficcao = dfbooks[dfbooks.Genre == 'Fiction'].reset_index(drop=True)\n",
        "noficcao = dfbooks[dfbooks.Genre == 'Non Fiction'].reset_index(drop=True)"
      ],
      "execution_count": 33,
      "outputs": []
    },
    {
      "cell_type": "code",
      "metadata": {
        "colab": {
          "base_uri": "https://localhost:8080/",
          "height": 383
        },
        "id": "gFBPhq8u907Q",
        "outputId": "cdd67eed-2332-4c25-8aca-21504baacea9"
      },
      "source": [
        "# distribuição de probabilidade comparando o Classificação media dos usuários para as duas classes\n",
        "sns.distplot(ficcao['User Rating'], hist=False, rug=False,label='ficção')\n",
        "sns.distplot(noficcao['User Rating'], hist=False, rug=False,label='não ficção')\n",
        "plt.xlabel('Genero')\n",
        "plt.ylabel('Probabilidades')\n",
        "plt.title('Ficção e Não Ficção')\n",
        "plt.legend()\n",
        "plt.show()"
      ],
      "execution_count": 41,
      "outputs": [
        {
          "output_type": "stream",
          "text": [
            "/usr/local/lib/python3.6/dist-packages/seaborn/distributions.py:2551: FutureWarning: `distplot` is a deprecated function and will be removed in a future version. Please adapt your code to use either `displot` (a figure-level function with similar flexibility) or `kdeplot` (an axes-level function for kernel density plots).\n",
            "  warnings.warn(msg, FutureWarning)\n",
            "/usr/local/lib/python3.6/dist-packages/seaborn/distributions.py:2551: FutureWarning: `distplot` is a deprecated function and will be removed in a future version. Please adapt your code to use either `displot` (a figure-level function with similar flexibility) or `kdeplot` (an axes-level function for kernel density plots).\n",
            "  warnings.warn(msg, FutureWarning)\n"
          ],
          "name": "stderr"
        },
        {
          "output_type": "display_data",
          "data": {
            "image/png": "[encoded data removed]",
            "text/plain": [
              "<Figure size 432x288 with 1 Axes>"
            ]
          },
          "metadata": {
            "tags": [],
            "needs_background": "light"
          }
        }
      ]
    },
    {
      "cell_type": "code",
      "metadata": {
        "colab": {
          "base_uri": "https://localhost:8080/",
          "height": 0
        },
        "id": "RN9Q2bAoCast",
        "outputId": "35b281d6-6629-4521-9ff3-43ade1285cc0"
      },
      "source": [
        "\n",
        "#calculando estatísticas das amostras\n",
        "medFiccao = ficcao['User Rating'].mean()\n",
        "desvFiccao = ficcao['User Rating'].std()\n",
        "\n",
        "medNoFiccao = noficcao['User Rating'].mean()\n",
        "desvNoFiccao = noficcao['User Rating'].std()\n",
        "\n",
        "print(medFiccao, desvFiccao)\n",
        "print(medNoFiccao,desvNoFiccao)"
      ],
      "execution_count": 42,
      "outputs": [
        {
          "output_type": "stream",
          "text": [
            "4.648333333333326 0.2651227972638524\n",
            "4.595161290322579 0.18955527867802857\n"
          ],
          "name": "stdout"
        }
      ]
    },
    {
      "cell_type": "markdown",
      "metadata": {
        "id": "Lo5CfnNdFmZU"
      },
      "source": [
        "Média e desvio diferentes porém próximos entre os atributos"
      ]
    }
  ]
}